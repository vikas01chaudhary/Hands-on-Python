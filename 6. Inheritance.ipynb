{
 "cells": [
  {
   "cell_type": "markdown",
   "id": "00415604",
   "metadata": {},
   "source": [
    "# Inheritance"
   ]
  },
  {
   "cell_type": "code",
   "execution_count": 2,
   "id": "8bc7a04a",
   "metadata": {},
   "outputs": [],
   "source": [
    "# capability of one class to derive or inherit properties from other class\n",
    "# the class which derives the properties is child or derived class\n",
    "# the class from which the properties are being derived is parent or base class\n",
    "# while inheriting, always the object will be created for a child class\n",
    "# in inheritance, we should invoke/call the __init__ method, present in parent class inside chlid class\n",
    "\n",
    "# syntax: parentclassname.__init__(parameters)\n",
    "\n",
    "# Benefits:\n",
    "\n",
    "#1. represent the real world relationships\n",
    "#2. provides reuability of code\n",
    "#3. allow me to add more features to the class\n",
    "#4. transitive in nature"
   ]
  },
  {
   "cell_type": "code",
   "execution_count": null,
   "id": "c67e3e3f",
   "metadata": {},
   "outputs": [],
   "source": []
  },
  {
   "cell_type": "code",
   "execution_count": 1,
   "id": "54066097",
   "metadata": {},
   "outputs": [],
   "source": [
    "# Example 1:\n",
    "\n",
    "# parent class\n",
    "class person:             \n",
    "    def __init__(self,name,id_no):\n",
    "        self.name=name\n",
    "        self.id_no=id_no\n",
    "        \n",
    "    def display(self):\n",
    "        print(self.name,self.id_no)\n",
    "        \n",
    "    def details(self):\n",
    "        print(\"My name is \",self.name)\n",
    "        print(\"My ID No. is \", self.id_no)\n",
    "        "
   ]
  },
  {
   "cell_type": "code",
   "execution_count": 4,
   "id": "79420bd9",
   "metadata": {},
   "outputs": [],
   "source": [
    "# child class\n",
    "class employee(person):     # inheritent the parent class(person)\n",
    "    \n",
    "    def __init__(self,name,id_no,salary,post):\n",
    "        self.salary=salary\n",
    "        self.post=post\n",
    "        person.__init__(self,name,id_no)       # calling parent class constructor \n",
    "        \n",
    "    def details(self):\n",
    "        print(\"My name is: \",self.name)\n",
    "        print(\"My ID No. is: \", self.id_no)\n",
    "        \n",
    "        print(\"My salary is: \",self.salary)\n",
    "        print(\"My post is: \", self.post)"
   ]
  },
  {
   "cell_type": "code",
   "execution_count": 5,
   "id": "18359d34",
   "metadata": {},
   "outputs": [],
   "source": [
    "e1 = employee(\"Vikas\", 1726,40000,\"Intern\")"
   ]
  },
  {
   "cell_type": "code",
   "execution_count": 6,
   "id": "aefdb709",
   "metadata": {},
   "outputs": [
    {
     "name": "stdout",
     "output_type": "stream",
     "text": [
      "My name is:  Vikas\n",
      "My ID No. is:  1726\n",
      "My salary is:  40000\n",
      "My post is:  Intern\n"
     ]
    }
   ],
   "source": [
    "e1.details()     "
   ]
  },
  {
   "cell_type": "code",
   "execution_count": null,
   "id": "20df0f39",
   "metadata": {},
   "outputs": [],
   "source": [
    " # here we have not given the code for name & id but then also we are getting the value as it has taken from parent class"
   ]
  },
  {
   "cell_type": "code",
   "execution_count": 7,
   "id": "bbbdddb7",
   "metadata": {},
   "outputs": [
    {
     "name": "stdout",
     "output_type": "stream",
     "text": [
      "Vikas 1726\n"
     ]
    }
   ],
   "source": [
    "e1.display()"
   ]
  },
  {
   "cell_type": "code",
   "execution_count": null,
   "id": "149fde61",
   "metadata": {},
   "outputs": [],
   "source": []
  },
  {
   "cell_type": "markdown",
   "id": "ce0a22fb",
   "metadata": {},
   "source": [
    "### Types of Inheritance\n",
    "\n",
    "1. Single/simple Inheritance\n",
    "2. Multiple Inheritance\n",
    "3. Multi Level Inheritance\n",
    "4. Hierarchial Inheritance\n",
    "5. Hybrid Inheritance\n"
   ]
  },
  {
   "cell_type": "markdown",
   "id": "4316f656",
   "metadata": {},
   "source": [
    "#### 2. Multiple Inheritance"
   ]
  },
  {
   "cell_type": "code",
   "execution_count": null,
   "id": "4819fcf7",
   "metadata": {},
   "outputs": [],
   "source": [
    "# Multiple parents -> single child class\n",
    "\n",
    "# A - Parent class\n",
    "# B - Parent class\n",
    "# C - Chlid class"
   ]
  },
  {
   "cell_type": "code",
   "execution_count": 28,
   "id": "7a291f2d",
   "metadata": {},
   "outputs": [],
   "source": [
    "class A:\n",
    "    \n",
    "    def __init__(self):\n",
    "        print (\"This is 1st class\")\n",
    "        \n",
    "    def m1(self):\n",
    "        print (\"Feature 1\")"
   ]
  },
  {
   "cell_type": "code",
   "execution_count": 53,
   "id": "c449c6b4",
   "metadata": {},
   "outputs": [],
   "source": [
    "class B:\n",
    "    \n",
    "    def __init__(self):\n",
    "        print (\"This is 2nd class\")\n",
    "        \n",
    "    def m2(self):\n",
    "        print (\"Feature 2\")"
   ]
  },
  {
   "cell_type": "code",
   "execution_count": 54,
   "id": "1981af19",
   "metadata": {},
   "outputs": [],
   "source": [
    "class C(A,B):\n",
    "    \n",
    "    def __init__(self):\n",
    "        \n",
    "        A.__init__(self)   # calling constructor A\n",
    "        B.__init__(self)   # calling constructor B\n",
    "        print (\"This is 3rd class\")\n",
    "        \n",
    "    def m3(self):\n",
    "        \n",
    "        A.m1(self)        # Adding features of Class A\n",
    "        B.m2(self)        # Adding features of Class B\n",
    "        print (\"Feature 3\")\n",
    "        print (\"Feature 4\")\n",
    "        "
   ]
  },
  {
   "cell_type": "code",
   "execution_count": 55,
   "id": "c9dd8982",
   "metadata": {},
   "outputs": [
    {
     "name": "stdout",
     "output_type": "stream",
     "text": [
      "This is 1st class\n"
     ]
    }
   ],
   "source": [
    "a1 =A()"
   ]
  },
  {
   "cell_type": "code",
   "execution_count": 56,
   "id": "54382278",
   "metadata": {},
   "outputs": [
    {
     "name": "stdout",
     "output_type": "stream",
     "text": [
      "Feature 1\n"
     ]
    }
   ],
   "source": [
    "a1.m1()"
   ]
  },
  {
   "cell_type": "code",
   "execution_count": 57,
   "id": "575571a2",
   "metadata": {},
   "outputs": [
    {
     "name": "stdout",
     "output_type": "stream",
     "text": [
      "This is 2nd class\n"
     ]
    }
   ],
   "source": [
    "b1= B()"
   ]
  },
  {
   "cell_type": "code",
   "execution_count": 58,
   "id": "bea4ea3b",
   "metadata": {},
   "outputs": [
    {
     "name": "stdout",
     "output_type": "stream",
     "text": [
      "This is 1st class\n",
      "This is 2nd class\n",
      "This is 3rd class\n"
     ]
    }
   ],
   "source": [
    "c1= C()"
   ]
  },
  {
   "cell_type": "code",
   "execution_count": 59,
   "id": "7a92b6f0",
   "metadata": {},
   "outputs": [
    {
     "name": "stdout",
     "output_type": "stream",
     "text": [
      "Feature 1\n",
      "Feature 2\n",
      "Feature 3\n",
      "Feature 4\n"
     ]
    }
   ],
   "source": [
    "c1.m3()"
   ]
  },
  {
   "cell_type": "code",
   "execution_count": null,
   "id": "902087ce",
   "metadata": {},
   "outputs": [],
   "source": []
  },
  {
   "cell_type": "markdown",
   "id": "5aa5b8aa",
   "metadata": {},
   "source": [
    "#### 3. Multi Level Inheritance"
   ]
  },
  {
   "cell_type": "code",
   "execution_count": 42,
   "id": "fade4c54",
   "metadata": {},
   "outputs": [],
   "source": [
    "# Grand parents -> Grand parents + Parent class -> single child class\n",
    "\n",
    "# A - Grand Parent class\n",
    "# B - Parent class\n",
    "# C - Chlid class"
   ]
  },
  {
   "cell_type": "code",
   "execution_count": 66,
   "id": "4e7ea03b",
   "metadata": {},
   "outputs": [],
   "source": [
    "class A:\n",
    "    \n",
    "    def __init__(self):\n",
    "        print (\"This is 1st class\")\n",
    "        \n",
    "    def m1(self):\n",
    "        print (\"Feature 1\")\n",
    "        \n",
    "class B(A):\n",
    "    \n",
    "    def __init__(self):\n",
    "        \n",
    "        A.__init__(self)\n",
    "        print (\"This is 2nd class\")\n",
    "        \n",
    "    def m2(self):\n",
    "        A.m1(self)\n",
    "        print (\"Feature 2\")\n",
    "        \n",
    "class C(B):\n",
    "    \n",
    "    def __init__(self):\n",
    "        \n",
    "        #A.__init__(self)   # calling constructor A       -> not calling constructor A & B\n",
    "        #B.__init__(self)   # calling constructor B\n",
    "        print (\"This is 3rd class\")\n",
    "        \n",
    "    def m3(self):\n",
    "        \n",
    "        # A.m1(self)        # Adding features of Class A\n",
    "        B.m2(self)        # Adding features of Class B\n",
    "        print (\"Feature 3\")\n",
    "        print (\"Feature 4\")\n",
    "        print (\"Feature 5\")\n",
    "        "
   ]
  },
  {
   "cell_type": "code",
   "execution_count": 67,
   "id": "1c01a590",
   "metadata": {},
   "outputs": [
    {
     "name": "stdout",
     "output_type": "stream",
     "text": [
      "This is 1st class\n",
      "This is 2nd class\n"
     ]
    }
   ],
   "source": [
    "b1 = B()"
   ]
  },
  {
   "cell_type": "code",
   "execution_count": 68,
   "id": "61cd07e9",
   "metadata": {},
   "outputs": [
    {
     "name": "stdout",
     "output_type": "stream",
     "text": [
      "Feature 1\n",
      "Feature 2\n"
     ]
    }
   ],
   "source": [
    "b1.m2()"
   ]
  },
  {
   "cell_type": "code",
   "execution_count": 69,
   "id": "e9d1294e",
   "metadata": {},
   "outputs": [
    {
     "name": "stdout",
     "output_type": "stream",
     "text": [
      "This is 3rd class\n"
     ]
    }
   ],
   "source": [
    "c1 = C()"
   ]
  },
  {
   "cell_type": "code",
   "execution_count": 70,
   "id": "1343c915",
   "metadata": {},
   "outputs": [
    {
     "name": "stdout",
     "output_type": "stream",
     "text": [
      "Feature 1\n",
      "Feature 2\n",
      "Feature 3\n",
      "Feature 4\n",
      "Feature 5\n"
     ]
    }
   ],
   "source": [
    "c1.m3()"
   ]
  },
  {
   "cell_type": "code",
   "execution_count": null,
   "id": "7f0d9955",
   "metadata": {},
   "outputs": [],
   "source": []
  },
  {
   "cell_type": "markdown",
   "id": "7c35bd39",
   "metadata": {},
   "source": [
    "#### 4. Hierarchial Inheritance"
   ]
  },
  {
   "cell_type": "code",
   "execution_count": null,
   "id": "88d860ed",
   "metadata": {},
   "outputs": [],
   "source": [
    "# Parent class -> two child class\n",
    "\n",
    "# A - Parent class\n",
    "# B - Child class\n",
    "# C - Chlid class"
   ]
  },
  {
   "cell_type": "code",
   "execution_count": 79,
   "id": "22bc5193",
   "metadata": {},
   "outputs": [],
   "source": [
    "class A:\n",
    "    \n",
    "    def __init__(self):\n",
    "        print (\"This is 1st class\")\n",
    "        \n",
    "    def m1(self):\n",
    "        print (\"Feature 1\")\n",
    "        \n",
    "class B(A):\n",
    "    \n",
    "    def __init__(self):\n",
    "        \n",
    "        A.__init__(self)\n",
    "        print (\"This is 2nd class\")\n",
    "        \n",
    "    def m2(self):\n",
    "        A.m1(self)\n",
    "        print (\"Feature 2\")\n",
    "        \n",
    "class C(A):\n",
    "    \n",
    "    def __init__(self):\n",
    "        \n",
    "        A.__init__(self)   # calling constructor A     \n",
    "        #B.__init__(self)   # calling constructor B\n",
    "        print (\"This is 3rd class\")\n",
    "        \n",
    "    def m3(self):\n",
    "        \n",
    "        A.m1(self)        # Adding features of Class A\n",
    "        #B.m2(self)        # Adding features of Class B\n",
    "        print (\"Feature 3\")\n",
    "        print (\"Feature 4\")\n",
    "        print (\"Feature 5\")\n",
    "        "
   ]
  },
  {
   "cell_type": "code",
   "execution_count": 80,
   "id": "379fa3b0",
   "metadata": {},
   "outputs": [
    {
     "name": "stdout",
     "output_type": "stream",
     "text": [
      "This is 1st class\n"
     ]
    }
   ],
   "source": [
    "a1 = A()"
   ]
  },
  {
   "cell_type": "code",
   "execution_count": 81,
   "id": "d7121f8c",
   "metadata": {},
   "outputs": [
    {
     "name": "stdout",
     "output_type": "stream",
     "text": [
      "Feature 1\n"
     ]
    }
   ],
   "source": [
    "a1.m1()"
   ]
  },
  {
   "cell_type": "code",
   "execution_count": 82,
   "id": "922fbd4f",
   "metadata": {},
   "outputs": [
    {
     "name": "stdout",
     "output_type": "stream",
     "text": [
      "This is 1st class\n",
      "This is 2nd class\n"
     ]
    }
   ],
   "source": [
    "b1 = B()"
   ]
  },
  {
   "cell_type": "code",
   "execution_count": 83,
   "id": "63d49755",
   "metadata": {},
   "outputs": [
    {
     "name": "stdout",
     "output_type": "stream",
     "text": [
      "Feature 1\n",
      "Feature 2\n"
     ]
    }
   ],
   "source": [
    "b1.m2()"
   ]
  },
  {
   "cell_type": "code",
   "execution_count": 84,
   "id": "5a1603c3",
   "metadata": {},
   "outputs": [
    {
     "name": "stdout",
     "output_type": "stream",
     "text": [
      "This is 1st class\n",
      "This is 3rd class\n"
     ]
    }
   ],
   "source": [
    "c1= C()"
   ]
  },
  {
   "cell_type": "code",
   "execution_count": 85,
   "id": "8ea5581f",
   "metadata": {},
   "outputs": [
    {
     "name": "stdout",
     "output_type": "stream",
     "text": [
      "Feature 1\n",
      "Feature 3\n",
      "Feature 4\n",
      "Feature 5\n"
     ]
    }
   ],
   "source": [
    "c1.m3()"
   ]
  },
  {
   "cell_type": "code",
   "execution_count": null,
   "id": "33920468",
   "metadata": {},
   "outputs": [],
   "source": []
  },
  {
   "cell_type": "markdown",
   "id": "7f5878ad",
   "metadata": {},
   "source": [
    "#### 5. Hybrid Inheritance\n"
   ]
  },
  {
   "cell_type": "code",
   "execution_count": 86,
   "id": "8dcde8b0",
   "metadata": {},
   "outputs": [],
   "source": [
    "# Grand parents -> (Grand parents + Parent class) + (Grand parents + Parent class) -> single child class\n",
    "\n",
    "# A - Grand Parent class\n",
    "# B - Parent class\n",
    "# C - Parent class\n",
    "# D - Child class"
   ]
  },
  {
   "cell_type": "code",
   "execution_count": 104,
   "id": "6e90ee89",
   "metadata": {},
   "outputs": [],
   "source": [
    "class A:\n",
    "    \n",
    "    def __init__(self):\n",
    "        print (\"This is 1st class\")\n",
    "        \n",
    "    def m1(self):\n",
    "        print (\"Feature 1\")\n",
    "        \n",
    "class B(A):\n",
    "    \n",
    "    def __init__(self):\n",
    "        \n",
    "        A.__init__(self)\n",
    "        print (\"This is 2nd class\")\n",
    "        \n",
    "    def m2(self):\n",
    "        A.m1(self)\n",
    "        print (\"Feature 2\")\n",
    "        print (\"Feature 3\")\n",
    "        \n",
    "class C(A):\n",
    "    \n",
    "    def __init__(self):\n",
    "        \n",
    "        A.__init__(self)   # calling constructor A     \n",
    "        print (\"This is 3rd class\")\n",
    "        \n",
    "    def m3(self):\n",
    "        \n",
    "        A.m1(self)        # Adding features of Class A\n",
    "        #B.m2(self)        # Adding features of Class B\n",
    "        print (\"Feature 4\")\n",
    "        print (\"Feature 5\")\n",
    "\n",
    "class D(B,C):\n",
    "    \n",
    "    def __init_(self):\n",
    "        B.__init__(self)\n",
    "        C.__init__(self)\n",
    "        print (\"This is 4th class\")\n",
    "\n",
    "    def m4(self):\n",
    "        \n",
    "        B.m2(self)\n",
    "        C.m3(self)\n",
    "        print(\"Feature 6\")\n",
    "        print(\"Feature 7\")"
   ]
  },
  {
   "cell_type": "code",
   "execution_count": 96,
   "id": "478c38bf",
   "metadata": {},
   "outputs": [
    {
     "name": "stdout",
     "output_type": "stream",
     "text": [
      "This is 1st class\n"
     ]
    }
   ],
   "source": [
    "a1 =A()"
   ]
  },
  {
   "cell_type": "code",
   "execution_count": 97,
   "id": "0fe29ecd",
   "metadata": {},
   "outputs": [
    {
     "name": "stdout",
     "output_type": "stream",
     "text": [
      "Feature 1\n"
     ]
    }
   ],
   "source": [
    "a1.m1()"
   ]
  },
  {
   "cell_type": "code",
   "execution_count": 98,
   "id": "870de0cf",
   "metadata": {},
   "outputs": [
    {
     "name": "stdout",
     "output_type": "stream",
     "text": [
      "This is 1st class\n",
      "This is 2nd class\n"
     ]
    }
   ],
   "source": [
    "b1 = B()"
   ]
  },
  {
   "cell_type": "code",
   "execution_count": 99,
   "id": "d18858a9",
   "metadata": {},
   "outputs": [
    {
     "name": "stdout",
     "output_type": "stream",
     "text": [
      "Feature 1\n",
      "Feature 2\n",
      "Feature 3\n"
     ]
    }
   ],
   "source": [
    "b1.m2()"
   ]
  },
  {
   "cell_type": "code",
   "execution_count": 100,
   "id": "5c32f611",
   "metadata": {},
   "outputs": [
    {
     "name": "stdout",
     "output_type": "stream",
     "text": [
      "This is 1st class\n",
      "This is 3rd class\n"
     ]
    }
   ],
   "source": [
    "c1 = C()"
   ]
  },
  {
   "cell_type": "code",
   "execution_count": 101,
   "id": "91dd85fd",
   "metadata": {},
   "outputs": [
    {
     "name": "stdout",
     "output_type": "stream",
     "text": [
      "Feature 1\n",
      "Feature 4\n",
      "Feature 5\n"
     ]
    }
   ],
   "source": [
    "c1.m3()"
   ]
  },
  {
   "cell_type": "code",
   "execution_count": 106,
   "id": "7ce7eca1",
   "metadata": {},
   "outputs": [
    {
     "name": "stdout",
     "output_type": "stream",
     "text": [
      "This is 1st class\n",
      "This is 2nd class\n"
     ]
    }
   ],
   "source": [
    "d1 = D()"
   ]
  },
  {
   "cell_type": "code",
   "execution_count": 103,
   "id": "8d9d2a5c",
   "metadata": {},
   "outputs": [
    {
     "name": "stdout",
     "output_type": "stream",
     "text": [
      "Feature 1\n",
      "Feature 2\n",
      "Feature 3\n",
      "Feature 1\n",
      "Feature 4\n",
      "Feature 5\n",
      "Feature 6\n",
      "Feature 7\n"
     ]
    }
   ],
   "source": [
    "d1.m4()"
   ]
  },
  {
   "cell_type": "code",
   "execution_count": null,
   "id": "5b4ab4ec",
   "metadata": {},
   "outputs": [],
   "source": []
  }
 ],
 "metadata": {
  "kernelspec": {
   "display_name": "Python 3 (ipykernel)",
   "language": "python",
   "name": "python3"
  },
  "language_info": {
   "codemirror_mode": {
    "name": "ipython",
    "version": 3
   },
   "file_extension": ".py",
   "mimetype": "text/x-python",
   "name": "python",
   "nbconvert_exporter": "python",
   "pygments_lexer": "ipython3",
   "version": "3.9.7"
  }
 },
 "nbformat": 4,
 "nbformat_minor": 5
}
