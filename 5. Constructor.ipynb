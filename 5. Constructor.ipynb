{
 "cells": [
  {
   "cell_type": "code",
   "execution_count": 4,
   "id": "ef352383",
   "metadata": {},
   "outputs": [
    {
     "name": "stdout",
     "output_type": "stream",
     "text": [
      "\n",
      "Note: you may need to restart the kernel to use updated packages.\n"
     ]
    },
    {
     "name": "stderr",
     "output_type": "stream",
     "text": [
      "\n",
      "CondaValueError: invalid package specification: #\n",
      "\n"
     ]
    }
   ],
   "source": [
    "conda update jupyter     # code to update the anaconda or python"
   ]
  },
  {
   "cell_type": "code",
   "execution_count": 1,
   "id": "c12cb90e",
   "metadata": {},
   "outputs": [
    {
     "name": "stdout",
     "output_type": "stream",
     "text": [
      "3.9.7\n"
     ]
    }
   ],
   "source": [
    "from platform import python_version      # used to see the version of python install or jupter notebook\n",
    "\n",
    "print(python_version())"
   ]
  },
  {
   "cell_type": "markdown",
   "id": "a58f0f4a",
   "metadata": {},
   "source": [
    "# Constructor"
   ]
  },
  {
   "cell_type": "code",
   "execution_count": null,
   "id": "f8acd3d2",
   "metadata": {},
   "outputs": [],
   "source": [
    "\n",
    "# It is used for instantiating(assign value) to an object\n",
    "# used to initialize(assing values) to the data members of the class when an object is created\n",
    "\n",
    "\n",
    "# in other words, it is a special method, which will be automatically executed \n",
    "\n",
    "\n",
    "# in python __init__() method is called constructor\n",
    "# it will be automatically called \n",
    "\n",
    "# __init__ is a syntax for constructor (double underscore)"
   ]
  },
  {
   "cell_type": "markdown",
   "id": "4efdf62c",
   "metadata": {},
   "source": [
    "### Types of Constructor :\n",
    "\n",
    "1. Default or Non-Parameterized Constructor-> which do not accept any parameters except self\n",
    "2. Parameterized Constructor-> this will accept all parameters and helps to assign values accordingly"
   ]
  },
  {
   "cell_type": "raw",
   "id": "668c7817",
   "metadata": {},
   "source": [
    "Special method-\n",
    "\n",
    "Syntax:\n",
    "\n",
    "1. Default Constructor-\n",
    "\n",
    "def __init__(self):\n",
    "        body\n",
    "        \n",
    "2. Parameterized Constructor-\n",
    "\n",
    "def __init__(self, parameters):\n",
    "        body\n"
   ]
  },
  {
   "cell_type": "code",
   "execution_count": null,
   "id": "a45e6d79",
   "metadata": {},
   "outputs": [],
   "source": []
  },
  {
   "cell_type": "markdown",
   "id": "f7b48e69",
   "metadata": {},
   "source": [
    "### 1. Default Constructor (without parameters)\n"
   ]
  },
  {
   "cell_type": "code",
   "execution_count": 19,
   "id": "7ce54351",
   "metadata": {},
   "outputs": [],
   "source": [
    "class computer:\n",
    "    \n",
    "    def confg1(self):\n",
    "        print(\"i5,\",\"16GB,\", \"1TB,\", \"HDD\" )"
   ]
  },
  {
   "cell_type": "code",
   "execution_count": 20,
   "id": "2d384b8c",
   "metadata": {},
   "outputs": [],
   "source": [
    "c=computer()"
   ]
  },
  {
   "cell_type": "code",
   "execution_count": 21,
   "id": "20d102d6",
   "metadata": {},
   "outputs": [
    {
     "name": "stdout",
     "output_type": "stream",
     "text": [
      "i5, 16GB, 1TB, HDD\n"
     ]
    }
   ],
   "source": [
    "c.confg1()"
   ]
  },
  {
   "cell_type": "code",
   "execution_count": 2,
   "id": "8fbffd9d",
   "metadata": {},
   "outputs": [],
   "source": [
    "class computer:\n",
    "    \n",
    "    def confg1(self):\n",
    "        print(\"i5,\",\"16GB,\", \"1TB,\", \"HDD\" )\n",
    "        \n",
    "    def confg2(self):\n",
    "        \n",
    "        print(\"i7,\",\"32GB\",\"2TB,\",\"SSD\")"
   ]
  },
  {
   "cell_type": "code",
   "execution_count": 3,
   "id": "f7414d55",
   "metadata": {},
   "outputs": [],
   "source": [
    "c1=computer()"
   ]
  },
  {
   "cell_type": "code",
   "execution_count": 4,
   "id": "0b1c9755",
   "metadata": {},
   "outputs": [
    {
     "ename": "AttributeError",
     "evalue": "'computer' object has no attribute 'computer'",
     "output_type": "error",
     "traceback": [
      "\u001b[1;31m---------------------------------------------------------------------------\u001b[0m",
      "\u001b[1;31mAttributeError\u001b[0m                            Traceback (most recent call last)",
      "\u001b[1;32m~\\AppData\\Local\\Temp/ipykernel_2720/2912603385.py\u001b[0m in \u001b[0;36m<module>\u001b[1;34m\u001b[0m\n\u001b[1;32m----> 1\u001b[1;33m \u001b[0mc1\u001b[0m\u001b[1;33m.\u001b[0m\u001b[0mcomputer\u001b[0m\u001b[1;33m(\u001b[0m\u001b[1;33m)\u001b[0m  \u001b[1;31m# we can't call whole class at once, we have to call individually\u001b[0m\u001b[1;33m\u001b[0m\u001b[1;33m\u001b[0m\u001b[0m\n\u001b[0m",
      "\u001b[1;31mAttributeError\u001b[0m: 'computer' object has no attribute 'computer'"
     ]
    }
   ],
   "source": [
    "c1.computer()  # we can't call whole class at once, we have to call individually"
   ]
  },
  {
   "cell_type": "code",
   "execution_count": 34,
   "id": "18f51ef6",
   "metadata": {},
   "outputs": [
    {
     "name": "stdout",
     "output_type": "stream",
     "text": [
      "i5, 16GB, 1TB, HDD\n"
     ]
    }
   ],
   "source": [
    "c1.confg1()"
   ]
  },
  {
   "cell_type": "code",
   "execution_count": 35,
   "id": "7920c0e9",
   "metadata": {},
   "outputs": [
    {
     "name": "stdout",
     "output_type": "stream",
     "text": [
      "i7, 32GB 2TB, SSD\n"
     ]
    }
   ],
   "source": [
    "c1.confg2()"
   ]
  },
  {
   "cell_type": "code",
   "execution_count": 3,
   "id": "13de9b17",
   "metadata": {},
   "outputs": [],
   "source": [
    "class demo:\n",
    "    def __init__(self):              # __init__ is used as constructor\n",
    "        print(\"Constructor is called\")\n",
    "        \n",
    "    def m1(self,x):             # square\n",
    "        return x*x"
   ]
  },
  {
   "cell_type": "code",
   "execution_count": 4,
   "id": "f4b5c060",
   "metadata": {},
   "outputs": [
    {
     "name": "stdout",
     "output_type": "stream",
     "text": [
      "Constructor is called\n"
     ]
    }
   ],
   "source": [
    "obj1=demo()   # here we didn't called the constructor but it is called automatically, it saves time"
   ]
  },
  {
   "cell_type": "code",
   "execution_count": 6,
   "id": "23e7d1c5",
   "metadata": {},
   "outputs": [
    {
     "data": {
      "text/plain": [
       "144"
      ]
     },
     "execution_count": 6,
     "metadata": {},
     "output_type": "execute_result"
    }
   ],
   "source": [
    "obj1.m1(12)   # here we have to call method/function to bring output"
   ]
  },
  {
   "cell_type": "markdown",
   "id": "964797ed",
   "metadata": {},
   "source": [
    "### 2. Parameterized Constructor"
   ]
  },
  {
   "cell_type": "code",
   "execution_count": 44,
   "id": "41393a26",
   "metadata": {},
   "outputs": [],
   "source": [
    "# Example 1:\n",
    "\n",
    "class computers:\n",
    "    \n",
    "    def __init__(self,cpu,ram):\n",
    "        self.cpu = cpu\n",
    "        self.ram = ram\n",
    "        \n",
    "    def confg(self):\n",
    "        print(\"Confg is: \",self.cpu,self.ram)"
   ]
  },
  {
   "cell_type": "code",
   "execution_count": 45,
   "id": "4ab10fce",
   "metadata": {},
   "outputs": [],
   "source": [
    "com1= computers(\"i5\",16)\n",
    "\n",
    "com2= computers(\"i7\",32)"
   ]
  },
  {
   "cell_type": "code",
   "execution_count": 46,
   "id": "6a79f284",
   "metadata": {},
   "outputs": [
    {
     "name": "stdout",
     "output_type": "stream",
     "text": [
      "Confg is:  i5 16\n"
     ]
    }
   ],
   "source": [
    "com1.confg()"
   ]
  },
  {
   "cell_type": "code",
   "execution_count": 47,
   "id": "d65b47a7",
   "metadata": {},
   "outputs": [
    {
     "name": "stdout",
     "output_type": "stream",
     "text": [
      "Confg is:  i7 32\n"
     ]
    }
   ],
   "source": [
    "com2.confg()"
   ]
  },
  {
   "cell_type": "code",
   "execution_count": null,
   "id": "1ebce58a",
   "metadata": {},
   "outputs": [],
   "source": []
  },
  {
   "cell_type": "code",
   "execution_count": 18,
   "id": "7f6eed65",
   "metadata": {},
   "outputs": [],
   "source": [
    "# Example 2:\n",
    "\n",
    "class student:\n",
    "    def __init__(self,s_id,name,age,grade,year):\n",
    "        self.s_id=s_id\n",
    "        self.name=name\n",
    "        self.age=age\n",
    "        self.grade=grade\n",
    "        self.year=year\n",
    "        print(\"constructor is called\")\n",
    "        \n",
    "    def personal_details(self):\n",
    "        print(\"student id: \", self.s_id)\n",
    "        print(\"student name: \", self.name)\n",
    "        print(\"age of student: \", self.age)\n",
    "        \n",
    "    \n",
    "    def academic_details(self):\n",
    "        print(\"student id: \", self.s_id)\n",
    "        print(\"grade of student: \", self.grade)\n",
    "        print(\"year of passing: \", self.year)"
   ]
  },
  {
   "cell_type": "code",
   "execution_count": 19,
   "id": "518b2757",
   "metadata": {},
   "outputs": [
    {
     "name": "stdout",
     "output_type": "stream",
     "text": [
      "constructor is called\n"
     ]
    }
   ],
   "source": [
    "obj2=student(1090024,\"vikas\",21,\"A+\",2022) # s_id,name,age,grade,year"
   ]
  },
  {
   "cell_type": "code",
   "execution_count": 20,
   "id": "9c41d087",
   "metadata": {},
   "outputs": [
    {
     "name": "stdout",
     "output_type": "stream",
     "text": [
      "student id:  1090024\n",
      "student name:  vikas\n",
      "age of student:  21\n"
     ]
    }
   ],
   "source": [
    "obj2.personal_details()"
   ]
  },
  {
   "cell_type": "code",
   "execution_count": 21,
   "id": "c0c95735",
   "metadata": {},
   "outputs": [
    {
     "name": "stdout",
     "output_type": "stream",
     "text": [
      "student id:  1090024\n",
      "grade of student:  A+\n",
      "year of passing:  2022\n"
     ]
    }
   ],
   "source": [
    "obj2.academic_details()"
   ]
  },
  {
   "cell_type": "code",
   "execution_count": null,
   "id": "c22fb04c",
   "metadata": {},
   "outputs": [],
   "source": []
  },
  {
   "cell_type": "code",
   "execution_count": 4,
   "id": "9a9873e1",
   "metadata": {},
   "outputs": [],
   "source": [
    "# Example 3:  I want to get average of marks\n",
    "\n",
    "\n",
    "class marks:\n",
    "    \n",
    "    def __init__(self,m1,m2,m3):\n",
    "        self.m1= m1\n",
    "        self.m2= m2\n",
    "        self.m3= m3\n",
    "    \n",
    "    def avg(self):\n",
    "        return (self.m1+self.m2+self.m3)/3"
   ]
  },
  {
   "cell_type": "code",
   "execution_count": 7,
   "id": "11af04e6",
   "metadata": {},
   "outputs": [],
   "source": [
    "s1 = marks(70,50,80)\n",
    "\n",
    "s2 = marks(40,80,60)"
   ]
  },
  {
   "cell_type": "code",
   "execution_count": 8,
   "id": "2313ba3b",
   "metadata": {},
   "outputs": [
    {
     "data": {
      "text/plain": [
       "66.66666666666667"
      ]
     },
     "execution_count": 8,
     "metadata": {},
     "output_type": "execute_result"
    }
   ],
   "source": [
    "s1.avg()"
   ]
  },
  {
   "cell_type": "code",
   "execution_count": 9,
   "id": "47fc0bc4",
   "metadata": {},
   "outputs": [
    {
     "data": {
      "text/plain": [
       "60.0"
      ]
     },
     "execution_count": 9,
     "metadata": {},
     "output_type": "execute_result"
    }
   ],
   "source": [
    "s2.avg()"
   ]
  },
  {
   "cell_type": "code",
   "execution_count": null,
   "id": "4a7465aa",
   "metadata": {},
   "outputs": [],
   "source": []
  },
  {
   "cell_type": "code",
   "execution_count": null,
   "id": "ea37f0ac",
   "metadata": {},
   "outputs": [],
   "source": []
  },
  {
   "cell_type": "code",
   "execution_count": null,
   "id": "e51e4d87",
   "metadata": {},
   "outputs": [],
   "source": []
  }
 ],
 "metadata": {
  "kernelspec": {
   "display_name": "Python 3 (ipykernel)",
   "language": "python",
   "name": "python3"
  },
  "language_info": {
   "codemirror_mode": {
    "name": "ipython",
    "version": 3
   },
   "file_extension": ".py",
   "mimetype": "text/x-python",
   "name": "python",
   "nbconvert_exporter": "python",
   "pygments_lexer": "ipython3",
   "version": "3.9.7"
  }
 },
 "nbformat": 4,
 "nbformat_minor": 5
}
