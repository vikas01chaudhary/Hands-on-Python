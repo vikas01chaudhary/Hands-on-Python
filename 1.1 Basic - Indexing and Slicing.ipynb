{
 "cells": [
  {
   "cell_type": "markdown",
   "id": "e54ab0bc",
   "metadata": {},
   "source": [
    "# Indexing and Slicing"
   ]
  },
  {
   "cell_type": "markdown",
   "id": "d632157d",
   "metadata": {},
   "source": [
    "### 1. Indexing  -  accessing a single character/item "
   ]
  },
  {
   "cell_type": "code",
   "execution_count": 2,
   "id": "c079a873",
   "metadata": {},
   "outputs": [],
   "source": [
    "x =\"qwerty python\""
   ]
  },
  {
   "cell_type": "code",
   "execution_count": 3,
   "id": "1ab0202b",
   "metadata": {
    "scrolled": true
   },
   "outputs": [
    {
     "name": "stdout",
     "output_type": "stream",
     "text": [
      "13\n"
     ]
    }
   ],
   "source": [
    "print(len(x))"
   ]
  },
  {
   "cell_type": "code",
   "execution_count": 4,
   "id": "61463873",
   "metadata": {},
   "outputs": [
    {
     "name": "stdout",
     "output_type": "stream",
     "text": [
      "range(0, 13)\n"
     ]
    }
   ],
   "source": [
    "print(range(len(x)))"
   ]
  },
  {
   "cell_type": "raw",
   "id": "5331a44e",
   "metadata": {},
   "source": [
    "      Simple Indexing\n",
    "\n",
    "0 1 2 3 4 5 6 7 8 9 10 11 12\n",
    "q w e r t y   p y t h  o  n"
   ]
  },
  {
   "cell_type": "code",
   "execution_count": 37,
   "id": "97bdef96",
   "metadata": {},
   "outputs": [
    {
     "data": {
      "text/plain": [
       "'q'"
      ]
     },
     "execution_count": 37,
     "metadata": {},
     "output_type": "execute_result"
    }
   ],
   "source": [
    "x[0]"
   ]
  },
  {
   "cell_type": "code",
   "execution_count": 38,
   "id": "f6b10df5",
   "metadata": {},
   "outputs": [
    {
     "data": {
      "text/plain": [
       "' '"
      ]
     },
     "execution_count": 38,
     "metadata": {},
     "output_type": "execute_result"
    }
   ],
   "source": [
    "x[6]"
   ]
  },
  {
   "cell_type": "code",
   "execution_count": 39,
   "id": "3149e37b",
   "metadata": {},
   "outputs": [
    {
     "data": {
      "text/plain": [
       "'p'"
      ]
     },
     "execution_count": 39,
     "metadata": {},
     "output_type": "execute_result"
    }
   ],
   "source": [
    "x[7]"
   ]
  },
  {
   "cell_type": "raw",
   "id": "aaefbda2",
   "metadata": {},
   "source": [
    "             Reverse Indexing\n",
    "\n",
    "-13 -12 -11 -10 -9 -8 -7 -6 -5 -4 -3 -2 -1\n",
    "  q  w   e   r   t  y     p  y  t  h  o  n"
   ]
  },
  {
   "cell_type": "code",
   "execution_count": 40,
   "id": "b77917fc",
   "metadata": {},
   "outputs": [
    {
     "data": {
      "text/plain": [
       "'n'"
      ]
     },
     "execution_count": 40,
     "metadata": {},
     "output_type": "execute_result"
    }
   ],
   "source": [
    "x[-1]"
   ]
  },
  {
   "cell_type": "code",
   "execution_count": 41,
   "id": "944c4500",
   "metadata": {},
   "outputs": [
    {
     "data": {
      "text/plain": [
       "'y'"
      ]
     },
     "execution_count": 41,
     "metadata": {},
     "output_type": "execute_result"
    }
   ],
   "source": [
    "x[-5]"
   ]
  },
  {
   "cell_type": "markdown",
   "id": "5c346227",
   "metadata": {},
   "source": [
    "### 2. Slicing -  to extract the range of numbers from given data"
   ]
  },
  {
   "cell_type": "raw",
   "id": "10cbb4fa",
   "metadata": {},
   "source": [
    "               Simple Slicing\n",
    "\n",
    "         0 1 2 3 4 5 6 7 8 9 10 11 12\n",
    "         q w e r t y   p y t h  o  n\n",
    "\n",
    "\n",
    "             Reverse Slicing\n",
    "\n",
    "-13 -12 -11 -10 -9 -8 -7 -6 -5 -4 -3 -2 -1\n",
    "  q  w   e   r   t  y     p  y  t  h  o  n"
   ]
  },
  {
   "cell_type": "code",
   "execution_count": 5,
   "id": "d61e8836",
   "metadata": {},
   "outputs": [],
   "source": [
    "y =\"qwerty python\""
   ]
  },
  {
   "cell_type": "code",
   "execution_count": 6,
   "id": "45cb3a23",
   "metadata": {},
   "outputs": [
    {
     "data": {
      "text/plain": [
       "'qwert'"
      ]
     },
     "execution_count": 6,
     "metadata": {},
     "output_type": "execute_result"
    }
   ],
   "source": [
    "y[0:5]      # last digit is not included"
   ]
  },
  {
   "cell_type": "code",
   "execution_count": 7,
   "id": "dcb74969",
   "metadata": {},
   "outputs": [
    {
     "data": {
      "text/plain": [
       "'qwerty'"
      ]
     },
     "execution_count": 7,
     "metadata": {},
     "output_type": "execute_result"
    }
   ],
   "source": [
    "y[0:6]        "
   ]
  },
  {
   "cell_type": "code",
   "execution_count": 11,
   "id": "d36f9ab7",
   "metadata": {
    "scrolled": false
   },
   "outputs": [
    {
     "data": {
      "text/plain": [
       "'qwerty'"
      ]
     },
     "execution_count": 11,
     "metadata": {},
     "output_type": "execute_result"
    }
   ],
   "source": [
    "y[:-7]"
   ]
  },
  {
   "cell_type": "code",
   "execution_count": 12,
   "id": "cb6efe18",
   "metadata": {},
   "outputs": [
    {
     "data": {
      "text/plain": [
       "'python'"
      ]
     },
     "execution_count": 12,
     "metadata": {},
     "output_type": "execute_result"
    }
   ],
   "source": [
    "y[-6:]"
   ]
  },
  {
   "cell_type": "code",
   "execution_count": 45,
   "id": "dadc094e",
   "metadata": {},
   "outputs": [
    {
     "data": {
      "text/plain": [
       "'pytho'"
      ]
     },
     "execution_count": 45,
     "metadata": {},
     "output_type": "execute_result"
    }
   ],
   "source": [
    "y[7:-1]"
   ]
  },
  {
   "cell_type": "code",
   "execution_count": 46,
   "id": "53d699df",
   "metadata": {},
   "outputs": [
    {
     "data": {
      "text/plain": [
       "'python'"
      ]
     },
     "execution_count": 46,
     "metadata": {},
     "output_type": "execute_result"
    }
   ],
   "source": [
    "y[7:]"
   ]
  },
  {
   "cell_type": "code",
   "execution_count": 48,
   "id": "27cef64d",
   "metadata": {},
   "outputs": [
    {
     "data": {
      "text/plain": [
       "'qet yhn'"
      ]
     },
     "execution_count": 48,
     "metadata": {},
     "output_type": "execute_result"
    }
   ],
   "source": [
    "y[0:13:2]    # here, 2 means skip 1 digit again and again"
   ]
  },
  {
   "cell_type": "code",
   "execution_count": 2,
   "id": "2192f056",
   "metadata": {},
   "outputs": [],
   "source": [
    "p = \"Data Science\""
   ]
  },
  {
   "cell_type": "code",
   "execution_count": 3,
   "id": "01a3dd7b",
   "metadata": {},
   "outputs": [
    {
     "data": {
      "text/plain": [
       "'Data Mining'"
      ]
     },
     "execution_count": 3,
     "metadata": {},
     "output_type": "execute_result"
    }
   ],
   "source": [
    "p.replace('Science','Mining')"
   ]
  },
  {
   "cell_type": "code",
   "execution_count": 4,
   "id": "2fce5f2e",
   "metadata": {
    "scrolled": true
   },
   "outputs": [
    {
     "name": "stdout",
     "output_type": "stream",
     "text": [
      "Data Science\n"
     ]
    }
   ],
   "source": [
    "print(p)"
   ]
  },
  {
   "cell_type": "code",
   "execution_count": 5,
   "id": "591f9488",
   "metadata": {},
   "outputs": [],
   "source": [
    "new_string=p.replace('Science','Mining')"
   ]
  },
  {
   "cell_type": "code",
   "execution_count": 6,
   "id": "b6b75d3e",
   "metadata": {},
   "outputs": [
    {
     "name": "stdout",
     "output_type": "stream",
     "text": [
      "Data Mining\n"
     ]
    }
   ],
   "source": [
    "print(new_string)"
   ]
  },
  {
   "cell_type": "code",
   "execution_count": null,
   "id": "1711dce9",
   "metadata": {},
   "outputs": [],
   "source": []
  }
 ],
 "metadata": {
  "kernelspec": {
   "display_name": "Python 3 (ipykernel)",
   "language": "python",
   "name": "python3"
  },
  "language_info": {
   "codemirror_mode": {
    "name": "ipython",
    "version": 3
   },
   "file_extension": ".py",
   "mimetype": "text/x-python",
   "name": "python",
   "nbconvert_exporter": "python",
   "pygments_lexer": "ipython3",
   "version": "3.9.7"
  }
 },
 "nbformat": 4,
 "nbformat_minor": 5
}
