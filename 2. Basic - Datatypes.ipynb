{
 "cells": [
  {
   "cell_type": "markdown",
   "id": "0bfab814",
   "metadata": {},
   "source": [
    "# Data Types "
   ]
  },
  {
   "cell_type": "code",
   "execution_count": 1,
   "id": "4a06d921",
   "metadata": {},
   "outputs": [],
   "source": [
    "# Basic/universal datatypes - int, float, char/str, boolean\n",
    "\n",
    "i = 10\n",
    "j = 45.5\n",
    "k = \"I'm Vikas Chaudhary\"\n",
    "m = True\n",
    "L = False"
   ]
  },
  {
   "cell_type": "code",
   "execution_count": null,
   "id": "59c58d6c",
   "metadata": {},
   "outputs": [],
   "source": []
  },
  {
   "cell_type": "markdown",
   "id": "ceca7347",
   "metadata": {},
   "source": [
    "### Collective Datatypes: \n",
    "\n",
    "<br>\n",
    "\n",
    "IMMUTABLE datatypes - can not change --> strings, tuple \n",
    "\n",
    "<br>\n",
    "\n",
    "MUTABLE datatypes - changeable --> list, sets, dictionary\n"
   ]
  },
  {
   "cell_type": "markdown",
   "id": "abb62923",
   "metadata": {},
   "source": [
    "## IMMUTABLE datatypes\n",
    "\n",
    "### 1. String -   \" \" or ' '"
   ]
  },
  {
   "cell_type": "code",
   "execution_count": 1,
   "id": "cd623a1f",
   "metadata": {},
   "outputs": [],
   "source": [
    "s1 = \"Hello World\""
   ]
  },
  {
   "cell_type": "code",
   "execution_count": 2,
   "id": "28345b33",
   "metadata": {},
   "outputs": [
    {
     "data": {
      "text/plain": [
       "str"
      ]
     },
     "execution_count": 2,
     "metadata": {},
     "output_type": "execute_result"
    }
   ],
   "source": [
    "type(s1)"
   ]
  },
  {
   "cell_type": "code",
   "execution_count": 3,
   "id": "3efd9d12",
   "metadata": {},
   "outputs": [
    {
     "data": {
      "text/plain": [
       "'Hello'"
      ]
     },
     "execution_count": 3,
     "metadata": {},
     "output_type": "execute_result"
    }
   ],
   "source": [
    "s1[0:5]"
   ]
  },
  {
   "cell_type": "code",
   "execution_count": 4,
   "id": "f82e7f70",
   "metadata": {},
   "outputs": [
    {
     "ename": "TypeError",
     "evalue": "'str' object does not support item assignment",
     "output_type": "error",
     "traceback": [
      "\u001b[1;31m---------------------------------------------------------------------------\u001b[0m",
      "\u001b[1;31mTypeError\u001b[0m                                 Traceback (most recent call last)",
      "\u001b[1;32m~\\AppData\\Local\\Temp/ipykernel_12504/162821904.py\u001b[0m in \u001b[0;36m<module>\u001b[1;34m\u001b[0m\n\u001b[1;32m----> 1\u001b[1;33m \u001b[0ms1\u001b[0m\u001b[1;33m[\u001b[0m\u001b[1;36m1\u001b[0m\u001b[1;33m]\u001b[0m\u001b[1;33m=\u001b[0m \u001b[1;34m\"h\"\u001b[0m\u001b[1;33m\u001b[0m\u001b[1;33m\u001b[0m\u001b[0m\n\u001b[0m",
      "\u001b[1;31mTypeError\u001b[0m: 'str' object does not support item assignment"
     ]
    }
   ],
   "source": [
    "s1[1]= \"h\""
   ]
  },
  {
   "cell_type": "code",
   "execution_count": null,
   "id": "a85d765b",
   "metadata": {},
   "outputs": [],
   "source": [
    "# we can extract the data but we cannt make changes or update it"
   ]
  },
  {
   "cell_type": "markdown",
   "id": "4dddcf1a",
   "metadata": {},
   "source": [
    "## 2. Tuple - () or , in end or nothing\n",
    "\n",
    "#### it is set of heterogeneous/different datatypes"
   ]
  },
  {
   "cell_type": "code",
   "execution_count": 5,
   "id": "fdfa80d6",
   "metadata": {},
   "outputs": [],
   "source": [
    "t1 = 12, 22.5, \"vikas\", True, False"
   ]
  },
  {
   "cell_type": "code",
   "execution_count": 6,
   "id": "58cfe892",
   "metadata": {},
   "outputs": [
    {
     "data": {
      "text/plain": [
       "tuple"
      ]
     },
     "execution_count": 6,
     "metadata": {},
     "output_type": "execute_result"
    }
   ],
   "source": [
    "type(t1)"
   ]
  },
  {
   "cell_type": "code",
   "execution_count": 7,
   "id": "59d0e0ec",
   "metadata": {},
   "outputs": [],
   "source": [
    "t2 = (22, 22.5, \"vivek\", True, False)"
   ]
  },
  {
   "cell_type": "code",
   "execution_count": 8,
   "id": "257a0c77",
   "metadata": {},
   "outputs": [
    {
     "data": {
      "text/plain": [
       "tuple"
      ]
     },
     "execution_count": 8,
     "metadata": {},
     "output_type": "execute_result"
    }
   ],
   "source": [
    "type(t2)"
   ]
  },
  {
   "cell_type": "code",
   "execution_count": 9,
   "id": "93a4fe8d",
   "metadata": {},
   "outputs": [],
   "source": [
    "t3 = 22, 22.5, \"vivek\", True, False,"
   ]
  },
  {
   "cell_type": "code",
   "execution_count": 10,
   "id": "a51d610b",
   "metadata": {},
   "outputs": [
    {
     "data": {
      "text/plain": [
       "tuple"
      ]
     },
     "execution_count": 10,
     "metadata": {},
     "output_type": "execute_result"
    }
   ],
   "source": [
    "type(t3)"
   ]
  },
  {
   "cell_type": "code",
   "execution_count": 11,
   "id": "5647db4a",
   "metadata": {},
   "outputs": [
    {
     "data": {
      "text/plain": [
       "tuple"
      ]
     },
     "execution_count": 11,
     "metadata": {},
     "output_type": "execute_result"
    }
   ],
   "source": [
    "t4 = \"vikas\",\n",
    "\n",
    "type(t4)"
   ]
  },
  {
   "cell_type": "code",
   "execution_count": 12,
   "id": "fb6ec708",
   "metadata": {},
   "outputs": [
    {
     "data": {
      "text/plain": [
       "True"
      ]
     },
     "execution_count": 12,
     "metadata": {},
     "output_type": "execute_result"
    }
   ],
   "source": [
    "t2[3]"
   ]
  },
  {
   "cell_type": "code",
   "execution_count": 13,
   "id": "f974e84d",
   "metadata": {},
   "outputs": [
    {
     "data": {
      "text/plain": [
       "(22, 'vivek')"
      ]
     },
     "execution_count": 13,
     "metadata": {},
     "output_type": "execute_result"
    }
   ],
   "source": [
    "t2[:4:2]"
   ]
  },
  {
   "cell_type": "code",
   "execution_count": 14,
   "id": "2950b9b4",
   "metadata": {},
   "outputs": [
    {
     "data": {
      "text/plain": [
       "'vek'"
      ]
     },
     "execution_count": 14,
     "metadata": {},
     "output_type": "execute_result"
    }
   ],
   "source": [
    "t2[2][2:5]    # double slicing / double indexing"
   ]
  },
  {
   "cell_type": "code",
   "execution_count": 15,
   "id": "ad010d6e",
   "metadata": {},
   "outputs": [
    {
     "ename": "TypeError",
     "evalue": "'tuple' object does not support item assignment",
     "output_type": "error",
     "traceback": [
      "\u001b[1;31m---------------------------------------------------------------------------\u001b[0m",
      "\u001b[1;31mTypeError\u001b[0m                                 Traceback (most recent call last)",
      "\u001b[1;32m~\\AppData\\Local\\Temp/ipykernel_12504/382518948.py\u001b[0m in \u001b[0;36m<module>\u001b[1;34m\u001b[0m\n\u001b[1;32m----> 1\u001b[1;33m \u001b[0mt2\u001b[0m\u001b[1;33m[\u001b[0m\u001b[1;36m2\u001b[0m\u001b[1;33m]\u001b[0m\u001b[1;33m=\u001b[0m\u001b[1;34m\"vikas\"\u001b[0m\u001b[1;33m\u001b[0m\u001b[1;33m\u001b[0m\u001b[0m\n\u001b[0m",
      "\u001b[1;31mTypeError\u001b[0m: 'tuple' object does not support item assignment"
     ]
    }
   ],
   "source": [
    "t2[2]=\"vikas\""
   ]
  },
  {
   "cell_type": "code",
   "execution_count": 16,
   "id": "af8d5742",
   "metadata": {},
   "outputs": [],
   "source": [
    "# we can extract the data but we can't make changes or update it"
   ]
  },
  {
   "cell_type": "code",
   "execution_count": null,
   "id": "649fa9b1",
   "metadata": {},
   "outputs": [],
   "source": []
  },
  {
   "cell_type": "markdown",
   "id": "248034c2",
   "metadata": {},
   "source": [
    "## MUTABLE datatypes - changeable --> list, sets, dictionary"
   ]
  },
  {
   "cell_type": "markdown",
   "id": "071b8229",
   "metadata": {},
   "source": [
    "### 1. List - [ ]\n",
    "\n",
    "Set of heterogeneous elements"
   ]
  },
  {
   "cell_type": "code",
   "execution_count": 17,
   "id": "c798fded",
   "metadata": {},
   "outputs": [
    {
     "data": {
      "text/plain": [
       "list"
      ]
     },
     "execution_count": 17,
     "metadata": {},
     "output_type": "execute_result"
    }
   ],
   "source": [
    "list"
   ]
  },
  {
   "cell_type": "code",
   "execution_count": 2,
   "id": "843ebf35",
   "metadata": {},
   "outputs": [],
   "source": [
    "list1 = [1,2,3,\"hi\",True,False,3,0,77.7]"
   ]
  },
  {
   "cell_type": "code",
   "execution_count": 3,
   "id": "f5cecce9",
   "metadata": {},
   "outputs": [
    {
     "data": {
      "text/plain": [
       "'hi'"
      ]
     },
     "execution_count": 3,
     "metadata": {},
     "output_type": "execute_result"
    }
   ],
   "source": [
    "list1[3]"
   ]
  },
  {
   "cell_type": "code",
   "execution_count": 4,
   "id": "91fe7f2b",
   "metadata": {},
   "outputs": [],
   "source": [
    "# append() - it adds a new element at the end of the list\n",
    "# insert() - add a element in a specific index position\n",
    "# pop()    - delete an element at particular index position\n",
    "#remove()  - delete the element using name"
   ]
  },
  {
   "cell_type": "markdown",
   "id": "09a92d74",
   "metadata": {},
   "source": [
    "## Append"
   ]
  },
  {
   "cell_type": "code",
   "execution_count": 5,
   "id": "724d8703",
   "metadata": {},
   "outputs": [],
   "source": [
    "list1.append(\"IIT Madras\")"
   ]
  },
  {
   "cell_type": "code",
   "execution_count": 6,
   "id": "5bf2faa9",
   "metadata": {},
   "outputs": [
    {
     "data": {
      "text/plain": [
       "[1, 2, 3, 'hi', True, False, 3, 0, 77.7, 'IIT Madras']"
      ]
     },
     "execution_count": 6,
     "metadata": {},
     "output_type": "execute_result"
    }
   ],
   "source": [
    "list1"
   ]
  },
  {
   "cell_type": "markdown",
   "id": "a8ce77ce",
   "metadata": {},
   "source": [
    "## Insert"
   ]
  },
  {
   "cell_type": "code",
   "execution_count": 7,
   "id": "250abd6a",
   "metadata": {},
   "outputs": [],
   "source": [
    "list1.insert(4,\"vikas\")     # insert the vikas at 4th position"
   ]
  },
  {
   "cell_type": "code",
   "execution_count": 10,
   "id": "daa08543",
   "metadata": {},
   "outputs": [
    {
     "data": {
      "text/plain": [
       "[1, 2, 3, 'hi', 'vikas', True, False, 3, 0, 77.7, 'IIT Madras']"
      ]
     },
     "execution_count": 10,
     "metadata": {},
     "output_type": "execute_result"
    }
   ],
   "source": [
    "list1"
   ]
  },
  {
   "cell_type": "markdown",
   "id": "daa5cf4d",
   "metadata": {},
   "source": [
    "## Pop"
   ]
  },
  {
   "cell_type": "code",
   "execution_count": 11,
   "id": "9f0b31eb",
   "metadata": {},
   "outputs": [
    {
     "data": {
      "text/plain": [
       "'vikas'"
      ]
     },
     "execution_count": 11,
     "metadata": {},
     "output_type": "execute_result"
    }
   ],
   "source": [
    "list1.pop(4)       # removed 4th position i.e 'vikas'"
   ]
  },
  {
   "cell_type": "code",
   "execution_count": 12,
   "id": "e6c072c2",
   "metadata": {},
   "outputs": [
    {
     "data": {
      "text/plain": [
       "[1, 2, 3, 'hi', True, False, 3, 0, 77.7, 'IIT Madras']"
      ]
     },
     "execution_count": 12,
     "metadata": {},
     "output_type": "execute_result"
    }
   ],
   "source": [
    "list1"
   ]
  },
  {
   "cell_type": "markdown",
   "id": "0a51ab24",
   "metadata": {},
   "source": [
    "## Remove"
   ]
  },
  {
   "cell_type": "code",
   "execution_count": 13,
   "id": "d3c6d7e1",
   "metadata": {},
   "outputs": [],
   "source": [
    "list1.remove(\"hi\")"
   ]
  },
  {
   "cell_type": "code",
   "execution_count": 14,
   "id": "b1a2138e",
   "metadata": {},
   "outputs": [
    {
     "data": {
      "text/plain": [
       "[1, 2, 3, True, False, 3, 0, 77.7, 'IIT Madras']"
      ]
     },
     "execution_count": 14,
     "metadata": {},
     "output_type": "execute_result"
    }
   ],
   "source": [
    "list1"
   ]
  },
  {
   "cell_type": "code",
   "execution_count": 15,
   "id": "f386b65b",
   "metadata": {},
   "outputs": [
    {
     "name": "stdout",
     "output_type": "stream",
     "text": [
      "[1, 2, 3, True, False, 3, 0, 'IIT Madras']\n"
     ]
    }
   ],
   "source": [
    "list1.remove(77.7)\n",
    "\n",
    "print(list1)"
   ]
  },
  {
   "cell_type": "code",
   "execution_count": 16,
   "id": "3bd7882e",
   "metadata": {},
   "outputs": [],
   "source": [
    "# in list we can add, remove, indexing, slicing. everything"
   ]
  },
  {
   "cell_type": "code",
   "execution_count": 17,
   "id": "e5d0afe4",
   "metadata": {},
   "outputs": [],
   "source": [
    "# NOTE: 1,0, True, False are a boolen values\n",
    "\n",
    "# both 1 and True are treated as same\n",
    "# both 0 and False are treated as same"
   ]
  },
  {
   "cell_type": "code",
   "execution_count": 18,
   "id": "0201e187",
   "metadata": {},
   "outputs": [
    {
     "name": "stdout",
     "output_type": "stream",
     "text": [
      "[2, 3, True, False, 3, 0, 'IIT Madras']\n"
     ]
    }
   ],
   "source": [
    "list1.remove(1)\n",
    "\n",
    "print(list1)"
   ]
  },
  {
   "cell_type": "code",
   "execution_count": 19,
   "id": "d89c00f8",
   "metadata": {},
   "outputs": [
    {
     "name": "stdout",
     "output_type": "stream",
     "text": [
      "[2, 3, True, 3, 0, 'IIT Madras']\n"
     ]
    }
   ],
   "source": [
    "list1.remove(0)      # here it has removed false bcz 0 and false are same, so 1st appearing value is always removed\n",
    "\n",
    "print(list1)"
   ]
  },
  {
   "cell_type": "code",
   "execution_count": null,
   "id": "bef0f285",
   "metadata": {},
   "outputs": [],
   "source": [
    " "
   ]
  },
  {
   "cell_type": "markdown",
   "id": "07b7fc91",
   "metadata": {},
   "source": [
    "### 2. Dicitionary - { }\n",
    "\n",
    "- It is a key value pair\n",
    "<br>\n",
    "\n",
    "- It doesn't support slicing and indexing\n",
    "<br>\n",
    "\n",
    "- key:    customized or a user defined position\n",
    "<br>\n",
    "\n",
    "- Value:  information/data\n",
    "<br>\n",
    "\n",
    "- Synatax:  dic_name = {key1: value1, key2: value2, key3: value3....} "
   ]
  },
  {
   "cell_type": "code",
   "execution_count": 34,
   "id": "8faba07c",
   "metadata": {},
   "outputs": [
    {
     "data": {
      "text/plain": [
       "dict"
      ]
     },
     "execution_count": 34,
     "metadata": {},
     "output_type": "execute_result"
    }
   ],
   "source": [
    "dict"
   ]
  },
  {
   "cell_type": "code",
   "execution_count": 35,
   "id": "83224930",
   "metadata": {},
   "outputs": [
    {
     "name": "stdout",
     "output_type": "stream",
     "text": [
      "{'mango': 80, 'apple': 150, 'banana': 30, 'Grapes': 70}\n"
     ]
    }
   ],
   "source": [
    "dict1 = {\"mango\": 80, \"apple\": 150, \"banana\": 30, \"Grapes\": 70}\n",
    "\n",
    "print(dict1)"
   ]
  },
  {
   "cell_type": "code",
   "execution_count": 36,
   "id": "9901438f",
   "metadata": {},
   "outputs": [
    {
     "name": "stdout",
     "output_type": "stream",
     "text": [
      "{1: 'vegetable', 2: 'fruits', 3: 'pluses', 4: 'cereals'}\n"
     ]
    }
   ],
   "source": [
    "dict2 = {1: \"vegetable\", 2: \"fruits\", 3: \"pluses\", 4: \"cereals\"}\n",
    "\n",
    "print(dict2)"
   ]
  },
  {
   "cell_type": "code",
   "execution_count": 37,
   "id": "118b5b19",
   "metadata": {},
   "outputs": [
    {
     "data": {
      "text/plain": [
       "150"
      ]
     },
     "execution_count": 37,
     "metadata": {},
     "output_type": "execute_result"
    }
   ],
   "source": [
    "dict1[\"apple\"]    # here key is apple and its cost/value is 150"
   ]
  },
  {
   "cell_type": "code",
   "execution_count": 38,
   "id": "20662a84",
   "metadata": {},
   "outputs": [
    {
     "ename": "NameError",
     "evalue": "name 'fruits' is not defined",
     "output_type": "error",
     "traceback": [
      "\u001b[1;31m---------------------------------------------------------------------------\u001b[0m",
      "\u001b[1;31mNameError\u001b[0m                                 Traceback (most recent call last)",
      "\u001b[1;32m~\\AppData\\Local\\Temp/ipykernel_12504/2058708230.py\u001b[0m in \u001b[0;36m<module>\u001b[1;34m\u001b[0m\n\u001b[1;32m----> 1\u001b[1;33m \u001b[0mdict2\u001b[0m\u001b[1;33m[\u001b[0m\u001b[0mfruits\u001b[0m\u001b[1;33m]\u001b[0m     \u001b[1;31m# we can only access the key and their values\u001b[0m\u001b[1;33m\u001b[0m\u001b[1;33m\u001b[0m\u001b[0m\n\u001b[0m",
      "\u001b[1;31mNameError\u001b[0m: name 'fruits' is not defined"
     ]
    }
   ],
   "source": [
    "dict2[fruits]     # we can only access the key and not their values"
   ]
  },
  {
   "cell_type": "code",
   "execution_count": 39,
   "id": "04bf5223",
   "metadata": {},
   "outputs": [
    {
     "data": {
      "text/plain": [
       "'fruits'"
      ]
     },
     "execution_count": 39,
     "metadata": {},
     "output_type": "execute_result"
    }
   ],
   "source": [
    "dict2[2]"
   ]
  },
  {
   "cell_type": "code",
   "execution_count": 40,
   "id": "1d65e91e",
   "metadata": {},
   "outputs": [],
   "source": [
    "# used to delete any key\n",
    "\n",
    "del dict1[\"apple\"]"
   ]
  },
  {
   "cell_type": "code",
   "execution_count": 41,
   "id": "af0e6dbf",
   "metadata": {},
   "outputs": [
    {
     "name": "stdout",
     "output_type": "stream",
     "text": [
      "{'mango': 80, 'banana': 30, 'Grapes': 70}\n"
     ]
    }
   ],
   "source": [
    "print(dict1)"
   ]
  },
  {
   "cell_type": "code",
   "execution_count": 42,
   "id": "a5ea2d18",
   "metadata": {},
   "outputs": [
    {
     "name": "stdout",
     "output_type": "stream",
     "text": [
      "{'mango': 80, 'banana': 30, 'Grapes': 70, 'Avacado': 200}\n"
     ]
    }
   ],
   "source": [
    "# If i want to add element\n",
    "\n",
    "\n",
    "dict1[\"Avacado\"]=200\n",
    "\n",
    "print(dict1)"
   ]
  },
  {
   "cell_type": "code",
   "execution_count": 43,
   "id": "5f556ea0",
   "metadata": {},
   "outputs": [
    {
     "data": {
      "text/plain": [
       "dict_keys(['mango', 'banana', 'Grapes', 'Avacado'])"
      ]
     },
     "execution_count": 43,
     "metadata": {},
     "output_type": "execute_result"
    }
   ],
   "source": [
    "# if i have huge data and want to check keys and values:\n",
    "\n",
    "\n",
    "dict1.keys()"
   ]
  },
  {
   "cell_type": "code",
   "execution_count": 44,
   "id": "6e926644",
   "metadata": {},
   "outputs": [
    {
     "data": {
      "text/plain": [
       "dict_values(['vegetable', 'fruits', 'pluses', 'cereals'])"
      ]
     },
     "execution_count": 44,
     "metadata": {},
     "output_type": "execute_result"
    }
   ],
   "source": [
    "dict2.values()"
   ]
  },
  {
   "cell_type": "code",
   "execution_count": null,
   "id": "b6c19b0b",
   "metadata": {},
   "outputs": [],
   "source": []
  },
  {
   "cell_type": "markdown",
   "id": "e148908c",
   "metadata": {},
   "source": [
    "### 3. Sets -  { } \n",
    "\n",
    "Unordered list of elements, unindexed and it always have unique values of index\n",
    "<br>\n",
    "\n",
    "- set will allow duplicates\n",
    "<br>  \n",
    "\n",
    "- syntax: set_name = {elements}"
   ]
  },
  {
   "cell_type": "code",
   "execution_count": 45,
   "id": "cd42e78b",
   "metadata": {},
   "outputs": [],
   "source": [
    "s1 = {1,2,3,4,5,6,7,\"hello\",\"hi\",\"hello\",True, False, 0,1,0,3,9.0,22.22}"
   ]
  },
  {
   "cell_type": "code",
   "execution_count": 46,
   "id": "c772eceb",
   "metadata": {},
   "outputs": [
    {
     "name": "stdout",
     "output_type": "stream",
     "text": [
      "{False, 1, 2, 3, 4, 5, 6, 7, 'hello', 9.0, 22.22, 'hi'}\n"
     ]
    }
   ],
   "source": [
    "print(s1)"
   ]
  },
  {
   "cell_type": "code",
   "execution_count": 47,
   "id": "88e0ee60",
   "metadata": {},
   "outputs": [],
   "source": [
    "# here it removed all dublicates including boolian"
   ]
  },
  {
   "cell_type": "markdown",
   "id": "64f652a4",
   "metadata": {},
   "source": [
    "### Difference b/w list and tuple"
   ]
  },
  {
   "cell_type": "code",
   "execution_count": 2,
   "id": "d0227c0d",
   "metadata": {},
   "outputs": [],
   "source": [
    "weeks1 = \"sunday\", \"monday\", \"tuesday\", \"wednesday\", \"thursday\", \"friday\", \"staturday\" "
   ]
  },
  {
   "cell_type": "code",
   "execution_count": 3,
   "id": "f8e4cb9e",
   "metadata": {},
   "outputs": [
    {
     "data": {
      "text/plain": [
       "tuple"
      ]
     },
     "execution_count": 3,
     "metadata": {},
     "output_type": "execute_result"
    }
   ],
   "source": [
    "type(weeks1)"
   ]
  },
  {
   "cell_type": "code",
   "execution_count": 7,
   "id": "7433af89",
   "metadata": {},
   "outputs": [],
   "source": [
    "weeks2 = [\"sunday\", \"monday\", \"tuesday\", \"wednesday\", \"thursday\", \"friday\", \"staturday\"]"
   ]
  },
  {
   "cell_type": "code",
   "execution_count": 8,
   "id": "43c473c3",
   "metadata": {},
   "outputs": [
    {
     "data": {
      "text/plain": [
       "list"
      ]
     },
     "execution_count": 8,
     "metadata": {},
     "output_type": "execute_result"
    }
   ],
   "source": [
    "type(weeks2)"
   ]
  },
  {
   "cell_type": "code",
   "execution_count": 9,
   "id": "34745b32",
   "metadata": {},
   "outputs": [
    {
     "ename": "TypeError",
     "evalue": "'tuple' object does not support item assignment",
     "output_type": "error",
     "traceback": [
      "\u001b[1;31m---------------------------------------------------------------------------\u001b[0m",
      "\u001b[1;31mTypeError\u001b[0m                                 Traceback (most recent call last)",
      "\u001b[1;32m~\\AppData\\Local\\Temp/ipykernel_13784/2699648190.py\u001b[0m in \u001b[0;36m<module>\u001b[1;34m\u001b[0m\n\u001b[1;32m----> 1\u001b[1;33m \u001b[0mweeks1\u001b[0m\u001b[1;33m[\u001b[0m\u001b[1;36m0\u001b[0m\u001b[1;33m]\u001b[0m \u001b[1;33m=\u001b[0m\u001b[1;34m\"no holiday\"\u001b[0m\u001b[1;33m\u001b[0m\u001b[1;33m\u001b[0m\u001b[0m\n\u001b[0m",
      "\u001b[1;31mTypeError\u001b[0m: 'tuple' object does not support item assignment"
     ]
    }
   ],
   "source": [
    "weeks1[0] =\"no holiday\"     # in tuple we can't make any changes"
   ]
  },
  {
   "cell_type": "code",
   "execution_count": 14,
   "id": "64811530",
   "metadata": {},
   "outputs": [],
   "source": [
    "weeks2[0] =\"no holiday\"      # but in list we can make any changes"
   ]
  },
  {
   "cell_type": "code",
   "execution_count": 13,
   "id": "a1378f27",
   "metadata": {},
   "outputs": [
    {
     "name": "stdout",
     "output_type": "stream",
     "text": [
      "['no holiday', 'monday', 'tuesday', 'wednesday', 'thursday', 'friday', 'staturday']\n"
     ]
    }
   ],
   "source": [
    "print(weeks2)"
   ]
  },
  {
   "cell_type": "code",
   "execution_count": null,
   "id": "235f8637",
   "metadata": {},
   "outputs": [],
   "source": []
  }
 ],
 "metadata": {
  "kernelspec": {
   "display_name": "Python 3 (ipykernel)",
   "language": "python",
   "name": "python3"
  },
  "language_info": {
   "codemirror_mode": {
    "name": "ipython",
    "version": 3
   },
   "file_extension": ".py",
   "mimetype": "text/x-python",
   "name": "python",
   "nbconvert_exporter": "python",
   "pygments_lexer": "ipython3",
   "version": "3.9.7"
  }
 },
 "nbformat": 4,
 "nbformat_minor": 5
}
