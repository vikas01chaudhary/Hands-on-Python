{
 "cells": [
  {
   "cell_type": "markdown",
   "id": "efa196fd",
   "metadata": {},
   "source": [
    "# Looping Statement\n",
    "\n",
    "<br>\n",
    "\n",
    "Which helps us to perform a certain set of task again and again.\n",
    "\n",
    "1. For loop\n",
    "2. While loop"
   ]
  },
  {
   "cell_type": "markdown",
   "id": "b3d2fc17",
   "metadata": {},
   "source": [
    "### 1. For loop"
   ]
  },
  {
   "cell_type": "raw",
   "id": "2b58ace2",
   "metadata": {},
   "source": [
    "Syntax:\n",
    "\n",
    "for iterable_variable in range():\n",
    "        task/statement\n",
    "        \n",
    "        \n",
    "- Iterable variable : this variable will look into the range and fetch every value from the range"
   ]
  },
  {
   "cell_type": "markdown",
   "id": "11bc93e1",
   "metadata": {},
   "source": [
    "##### Range"
   ]
  },
  {
   "cell_type": "code",
   "execution_count": 1,
   "id": "a7cd7ea5",
   "metadata": {},
   "outputs": [
    {
     "data": {
      "text/plain": [
       "[0, 1, 2, 3, 4, 5, 6, 7, 8, 9]"
      ]
     },
     "execution_count": 1,
     "metadata": {},
     "output_type": "execute_result"
    }
   ],
   "source": [
    "list(range(10))"
   ]
  },
  {
   "cell_type": "code",
   "execution_count": 4,
   "id": "692a85cb",
   "metadata": {},
   "outputs": [
    {
     "name": "stdout",
     "output_type": "stream",
     "text": [
      "python 0\n",
      "python 1\n",
      "python 2\n",
      "python 3\n",
      "python 4\n"
     ]
    }
   ],
   "source": [
    "# Example:\n",
    "\n",
    "for i in range(5):\n",
    "    print(\"python\",i)"
   ]
  },
  {
   "cell_type": "code",
   "execution_count": 10,
   "id": "657cd23e",
   "metadata": {},
   "outputs": [
    {
     "name": "stdout",
     "output_type": "stream",
     "text": [
      "6\n",
      "12\n",
      "18\n",
      "24\n",
      "30\n",
      "36\n",
      "42\n",
      "48\n",
      "54\n",
      "60\n"
     ]
    }
   ],
   "source": [
    "# Example 2: I want to print 6 table\n",
    "\n",
    "l1 = [1,2,3,4,5,6,7,8,9,10]\n",
    "n = 6\n",
    "\n",
    "for i in l1:\n",
    "    c = n*i\n",
    "    print(c)"
   ]
  },
  {
   "cell_type": "code",
   "execution_count": 3,
   "id": "ed2ebf7d",
   "metadata": {},
   "outputs": [
    {
     "name": "stdout",
     "output_type": "stream",
     "text": [
      "python 1\n",
      "python 4\n",
      "python 7\n",
      "python 10\n",
      "python 13\n"
     ]
    }
   ],
   "source": [
    "# Example 3:   \n",
    "\n",
    "for i in range(1,15,3):      # 1 is starting value, 15 end value, 3 is steps/gap\n",
    "    print(\"python\",i)"
   ]
  },
  {
   "cell_type": "code",
   "execution_count": 1,
   "id": "b95733ad",
   "metadata": {},
   "outputs": [
    {
     "name": "stdout",
     "output_type": "stream",
     "text": [
      "0\n",
      "2\n",
      "4\n",
      "6\n",
      "8\n",
      "10\n",
      "12\n",
      "14\n"
     ]
    }
   ],
   "source": [
    "# Example 4:    I want to print only even no. from 0 to 15\n",
    "\n",
    "for i in range(0,15,2):      # 0 is starting value, 15 end value, 2 is steps/gap\n",
    "    print(i)"
   ]
  },
  {
   "cell_type": "code",
   "execution_count": 15,
   "id": "25f16d9a",
   "metadata": {},
   "outputs": [
    {
     "name": "stdout",
     "output_type": "stream",
     "text": [
      "hello vikas\n",
      "hello ram\n",
      "hello geeta\n",
      "hello sonali\n"
     ]
    }
   ],
   "source": [
    "# Example 5:\n",
    "\n",
    "l2 = [\"vikas\",\"ram\",\"geeta\",\"sonali\"]\n",
    "\n",
    "for i in range(len(l2)):\n",
    "    print(\"hello\",l2[i])\n",
    "    "
   ]
  },
  {
   "cell_type": "code",
   "execution_count": 16,
   "id": "7f9d2933",
   "metadata": {},
   "outputs": [
    {
     "name": "stdout",
     "output_type": "stream",
     "text": [
      "hello 0\n",
      "hello 1\n",
      "hello 2\n",
      "hello 3\n"
     ]
    }
   ],
   "source": [
    "for i in range(len(l2)):\n",
    "    print(\"hello\",i)"
   ]
  },
  {
   "cell_type": "code",
   "execution_count": 17,
   "id": "9397ad3a",
   "metadata": {},
   "outputs": [
    {
     "ename": "TypeError",
     "evalue": "'list' object cannot be interpreted as an integer",
     "output_type": "error",
     "traceback": [
      "\u001b[1;31m---------------------------------------------------------------------------\u001b[0m",
      "\u001b[1;31mTypeError\u001b[0m                                 Traceback (most recent call last)",
      "\u001b[1;32m~\\AppData\\Local\\Temp/ipykernel_8476/3282531113.py\u001b[0m in \u001b[0;36m<module>\u001b[1;34m\u001b[0m\n\u001b[1;32m----> 1\u001b[1;33m \u001b[1;32mfor\u001b[0m \u001b[0mi\u001b[0m \u001b[1;32min\u001b[0m \u001b[0mrange\u001b[0m\u001b[1;33m(\u001b[0m\u001b[0ml2\u001b[0m\u001b[1;33m)\u001b[0m\u001b[1;33m:\u001b[0m\u001b[1;33m\u001b[0m\u001b[1;33m\u001b[0m\u001b[0m\n\u001b[0m\u001b[0;32m      2\u001b[0m     \u001b[0mprint\u001b[0m\u001b[1;33m(\u001b[0m\u001b[1;34m\"hello\"\u001b[0m\u001b[1;33m,\u001b[0m\u001b[0ml2\u001b[0m\u001b[1;33m[\u001b[0m\u001b[0mi\u001b[0m\u001b[1;33m]\u001b[0m\u001b[1;33m)\u001b[0m\u001b[1;33m\u001b[0m\u001b[1;33m\u001b[0m\u001b[0m\n",
      "\u001b[1;31mTypeError\u001b[0m: 'list' object cannot be interpreted as an integer"
     ]
    }
   ],
   "source": [
    "for i in range(l2):\n",
    "    print(\"hello\",l2[i])  # without len function it will show error"
   ]
  },
  {
   "cell_type": "code",
   "execution_count": null,
   "id": "c13e6f58",
   "metadata": {},
   "outputs": [],
   "source": []
  },
  {
   "cell_type": "markdown",
   "id": "8288c9b5",
   "metadata": {},
   "source": [
    "### 2. While Loop"
   ]
  },
  {
   "cell_type": "markdown",
   "id": "ab58660d",
   "metadata": {},
   "source": [
    "1. Here we give condition to execute the loop\n",
    "2. You must give start range\n",
    "3. Increment value"
   ]
  },
  {
   "cell_type": "raw",
   "id": "34b4897b",
   "metadata": {},
   "source": [
    "Syntax:\n",
    "\n",
    "iterable_variable = intialize/starting value\n",
    "while (condition):\n",
    "    task/statemnet\n",
    "    incrementation"
   ]
  },
  {
   "cell_type": "code",
   "execution_count": 19,
   "id": "018799ad",
   "metadata": {},
   "outputs": [
    {
     "name": "stdout",
     "output_type": "stream",
     "text": [
      "python 1\n",
      "python 2\n",
      "python 3\n",
      "python 4\n",
      "python 5\n"
     ]
    }
   ],
   "source": [
    "# Example 1:   I want to print python 5 times\n",
    "\n",
    "i = 1\n",
    "while (i<6):\n",
    "    print(\"python\",i)\n",
    "    i = i+1"
   ]
  },
  {
   "cell_type": "code",
   "execution_count": 21,
   "id": "92997a13",
   "metadata": {},
   "outputs": [
    {
     "name": "stdout",
     "output_type": "stream",
     "text": [
      "python 1\n",
      "python 4\n"
     ]
    }
   ],
   "source": [
    "# Example 2:\n",
    "\n",
    "i = 1\n",
    "while (i<6):\n",
    "    print(\"python\",i)\n",
    "    i = i+3"
   ]
  },
  {
   "cell_type": "code",
   "execution_count": null,
   "id": "18d5eb7c",
   "metadata": {},
   "outputs": [],
   "source": [
    "i = 1\n",
    "while (i<6):\n",
    "    print(\"python\",i)\n",
    "    \n",
    "# NOTE: if we don't give the incrementation, then our loop will never going to end as it will enter into infinite loop\n",
    "\n",
    "# and if we don't give iterable variable, then we will not get any output"
   ]
  },
  {
   "cell_type": "markdown",
   "id": "c6133f44",
   "metadata": {},
   "source": [
    "#### ~ Break\n",
    "\n",
    "It completely stops the execution.\n",
    "\n",
    "#### ~ Continue\n",
    "\n",
    "At that condition it stops execution but after that condition it continues execution."
   ]
  },
  {
   "cell_type": "code",
   "execution_count": 22,
   "id": "d9917212",
   "metadata": {},
   "outputs": [
    {
     "data": {
      "text/plain": [
       "11"
      ]
     },
     "execution_count": 22,
     "metadata": {},
     "output_type": "execute_result"
    }
   ],
   "source": [
    "s1=\"intellipaat\"\n",
    "\n",
    "len(s1)\n"
   ]
  },
  {
   "cell_type": "code",
   "execution_count": 26,
   "id": "f68b6ebe",
   "metadata": {},
   "outputs": [
    {
     "name": "stdout",
     "output_type": "stream",
     "text": [
      "Current letter from s1 :  i\n",
      "Current letter from s1 :  n\n",
      "Current letter from s1 :  t\n",
      "Current letter from s1 :  e\n",
      "Current letter from s1 :  i\n",
      "Current letter from s1 :  p\n",
      "Current letter from s1 :  t\n"
     ]
    }
   ],
   "source": [
    "# Example 3:\n",
    "\n",
    "# i want to print all letters expect \"l\" and \"a\"\n",
    "\n",
    "s1=\"intellipaat\"\n",
    "\n",
    "i = 0\n",
    "\n",
    "while i<len(s1):\n",
    "    if s1[i] == \"l\" or s1[i] == \"a\":\n",
    "        i = i+1\n",
    "        continue\n",
    "    print(\"Current letter from s1 : \", s1[i])\n",
    "    i =i+1"
   ]
  },
  {
   "cell_type": "code",
   "execution_count": null,
   "id": "fdbe9032",
   "metadata": {},
   "outputs": [],
   "source": [
    "# Continue:\n",
    "\n",
    "\n",
    "# above, till \"e\" it is not fullfiling the (if condition), i.e   if s1[i] == \"l\" or s1[i] == \"a\":\n",
    "#                                                                        i = i+1\n",
    "# that's why it will (continue) the execution till the end and print the statement\n",
    "\n",
    "# when \"l\" and \"a\" comes, it fullfil the condition, so it exexute  if s1[i] == \"l\" or s1[i] == \"a\":\n",
    "#                                                                     i = i+1 \n",
    "#                                   ( add 1 to variable and start the loop again from starting and do not print the statement)"
   ]
  },
  {
   "cell_type": "code",
   "execution_count": null,
   "id": "0d6f1403",
   "metadata": {},
   "outputs": [],
   "source": []
  },
  {
   "cell_type": "code",
   "execution_count": 27,
   "id": "ec56611d",
   "metadata": {},
   "outputs": [
    {
     "name": "stdout",
     "output_type": "stream",
     "text": [
      "Current letter from s1 :  i\n",
      "Current letter from s1 :  n\n",
      "Current letter from s1 :  t\n",
      "Current letter from s1 :  e\n"
     ]
    }
   ],
   "source": [
    "# Example 4:\n",
    "\n",
    "s1=\"intellipaat\"\n",
    "\n",
    "i = 0\n",
    "\n",
    "while i<len(s1):\n",
    "    if s1[i] == \"l\" or s1[i] == \"a\":\n",
    "        i = i+1\n",
    "        break\n",
    "    print(\"Current letter from s1 : \", s1[i])\n",
    "    i =i+1"
   ]
  },
  {
   "cell_type": "code",
   "execution_count": 28,
   "id": "e51195fe",
   "metadata": {},
   "outputs": [],
   "source": [
    "# Break:\n",
    "\n",
    "\n",
    "# above, till \"e\" it is not fullfiling the (if condition), i.e   if s1[i] == \"l\" or s1[i] == \"a\":\n",
    "#                                                                        i = i+1\n",
    "# that's why it will (continue) the execution till the end and print the statement\n",
    "\n",
    "# when \"l\" and \"a\" comes, it fullfil the condition, so it stop it's exexution at \"e\". "
   ]
  },
  {
   "cell_type": "code",
   "execution_count": 35,
   "id": "4dcaee84",
   "metadata": {},
   "outputs": [
    {
     "name": "stdout",
     "output_type": "stream",
     "text": [
      "10\n",
      "88\n",
      "4\n",
      "102\n"
     ]
    }
   ],
   "source": [
    "# Example 5:   I want only even no. from given list\n",
    "\n",
    "given_list = [29, 55, 10, 45, 88, 109, 99, 4, 102]\n",
    "\n",
    "i = 0\n",
    "\n",
    "while (i<len(given_list)):\n",
    "    if(given_list[i]%2 == 0):\n",
    "        print(given_list[i])\n",
    "    i = i+1\n"
   ]
  },
  {
   "cell_type": "code",
   "execution_count": null,
   "id": "69d8f538",
   "metadata": {},
   "outputs": [],
   "source": []
  },
  {
   "cell_type": "code",
   "execution_count": null,
   "id": "b5ca4878",
   "metadata": {},
   "outputs": [],
   "source": []
  },
  {
   "cell_type": "code",
   "execution_count": null,
   "id": "73290b7d",
   "metadata": {},
   "outputs": [],
   "source": []
  },
  {
   "cell_type": "code",
   "execution_count": null,
   "id": "a081ac6d",
   "metadata": {},
   "outputs": [],
   "source": []
  },
  {
   "cell_type": "code",
   "execution_count": null,
   "id": "fc96786b",
   "metadata": {},
   "outputs": [],
   "source": []
  },
  {
   "cell_type": "code",
   "execution_count": null,
   "id": "b4a5aa41",
   "metadata": {},
   "outputs": [],
   "source": []
  },
  {
   "cell_type": "code",
   "execution_count": null,
   "id": "2fe199ef",
   "metadata": {},
   "outputs": [],
   "source": []
  }
 ],
 "metadata": {
  "kernelspec": {
   "display_name": "Python 3 (ipykernel)",
   "language": "python",
   "name": "python3"
  },
  "language_info": {
   "codemirror_mode": {
    "name": "ipython",
    "version": 3
   },
   "file_extension": ".py",
   "mimetype": "text/x-python",
   "name": "python",
   "nbconvert_exporter": "python",
   "pygments_lexer": "ipython3",
   "version": "3.9.7"
  }
 },
 "nbformat": 4,
 "nbformat_minor": 5
}
