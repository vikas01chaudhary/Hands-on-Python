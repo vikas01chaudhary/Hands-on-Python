{
 "cells": [
  {
   "cell_type": "markdown",
   "id": "59649b60",
   "metadata": {},
   "source": [
    "# Conditional Statements"
   ]
  },
  {
   "cell_type": "markdown",
   "id": "08816722",
   "metadata": {},
   "source": [
    "Statements that are used to check if the condition/criteria is satisfied or not\n",
    "\n",
    "1. Simple if's\n",
    "2. Multiple if's\n",
    "3. if-elif-else\n",
    "4. nested if-else"
   ]
  },
  {
   "cell_type": "markdown",
   "id": "c5133863",
   "metadata": {},
   "source": [
    "### 1. Simple if's"
   ]
  },
  {
   "cell_type": "raw",
   "id": "e45e17eb",
   "metadata": {},
   "source": [
    "Syntax : \n",
    "\n",
    "\n",
    "  if (condition):\n",
    "       perform task\n",
    "  esle:\n",
    "      perform task"
   ]
  },
  {
   "cell_type": "code",
   "execution_count": 2,
   "id": "7d26c2a0",
   "metadata": {},
   "outputs": [
    {
     "name": "stdout",
     "output_type": "stream",
     "text": [
      "b is greater\n"
     ]
    }
   ],
   "source": [
    "# Example:\n",
    "\n",
    "\n",
    "a= 10\n",
    "b= 20\n",
    "\n",
    "if (a>b):\n",
    "    print(\"a is greater\")\n",
    "else:\n",
    "    print(\"b is greater\")  # in else we can't pass any condition, we can pass condtion in if's only"
   ]
  },
  {
   "cell_type": "code",
   "execution_count": null,
   "id": "24df91d0",
   "metadata": {},
   "outputs": [],
   "source": []
  },
  {
   "cell_type": "markdown",
   "id": "1fbd06b0",
   "metadata": {},
   "source": [
    "### 2. Multiple if's"
   ]
  },
  {
   "cell_type": "raw",
   "id": "a5c618d9",
   "metadata": {},
   "source": [
    "Syntax:\n",
    "\n",
    "if (condition):\n",
    "    task\n",
    "if (condition):\n",
    "    task\n",
    "if (condition):\n",
    "    task\n",
    "else:\n",
    "    task\n",
    "    \n",
    "NOTE: it will check all the conditions, if 1st condition is correct then also it will not come out from loop/it will execute         all the condtions and it will print else task also"
   ]
  },
  {
   "cell_type": "code",
   "execution_count": 1,
   "id": "3b48fa4d",
   "metadata": {},
   "outputs": [
    {
     "name": "stdout",
     "output_type": "stream",
     "text": [
      "b is greater\n",
      "not needed\n"
     ]
    }
   ],
   "source": [
    "# Example 1:\n",
    "\n",
    "a= 10\n",
    "b= 20\n",
    "\n",
    "if (a>b):\n",
    "    print(\"a is greater\")\n",
    "if (b>a):\n",
    "    print(\"b is greater\")\n",
    "if (a==b):\n",
    "    print(\"a is equal to b\")\n",
    "else:\n",
    "    print(\"not needed\")\n",
    "    \n",
    "    \n",
    "# here it will print esle task i.e \" not needed\"    "
   ]
  },
  {
   "cell_type": "code",
   "execution_count": 3,
   "id": "e03b5b48",
   "metadata": {},
   "outputs": [
    {
     "name": "stdout",
     "output_type": "stream",
     "text": [
      "b is greater\n"
     ]
    }
   ],
   "source": [
    "# Example 2:\n",
    "\n",
    "a= 10\n",
    "b= 20\n",
    "\n",
    "if (a>b):\n",
    "    print(\"a is greater\")\n",
    "if (b>a):\n",
    "    print(\"b is greater\")\n",
    "if (a==b):\n",
    "    print(\"a is equal to b\")\n"
   ]
  },
  {
   "cell_type": "code",
   "execution_count": null,
   "id": "07997822",
   "metadata": {},
   "outputs": [],
   "source": [
    "# Example 3:\n",
    "\n",
    "a= int(input())\n",
    "b= int(input())\n",
    "\n",
    "if (a>b):\n",
    "    print(\"a is greater\")\n",
    "if (b>a):\n",
    "    print(\"b is greater\")\n",
    "if (a==b):\n",
    "    print(\"a is equal to b\")"
   ]
  },
  {
   "cell_type": "code",
   "execution_count": null,
   "id": "71230cb3",
   "metadata": {},
   "outputs": [],
   "source": []
  },
  {
   "cell_type": "markdown",
   "id": "ea3d8acb",
   "metadata": {},
   "source": [
    "### 3. if-elif-else\n",
    "\n",
    "elif : it is combition of else and if"
   ]
  },
  {
   "cell_type": "raw",
   "id": "0143f7c2",
   "metadata": {},
   "source": [
    "Syntax:\n",
    "\n",
    "if (condition):\n",
    "    task\n",
    "elif (condition):\n",
    "    task\n",
    "elif (condition):\n",
    "    task\n",
    "esle:\n",
    "    task\n",
    "    \n",
    "    \n",
    "NOTE: It will stop its execution where ever it finds the condition true and do not check remaining conditions"
   ]
  },
  {
   "cell_type": "code",
   "execution_count": 4,
   "id": "39982e23",
   "metadata": {},
   "outputs": [
    {
     "name": "stdout",
     "output_type": "stream",
     "text": [
      "Enter the value of a: 10\n",
      "Enter the value of b: 20\n",
      "b is greater\n"
     ]
    }
   ],
   "source": [
    "# Example:\n",
    "\n",
    "a= int(input(\"Enter the value of a: \"))\n",
    "b= int(input(\"Enter the value of b: \"))\n",
    "\n",
    "if (a>b):\n",
    "    print(\"a is greater\")\n",
    "elif (b>a):\n",
    "    print(\"b is greater\")\n",
    "elif (a==b):\n",
    "    print(\"a is equal to b\")\n",
    "elif (a!=b):\n",
    "    print(\"b is not equal to a\")\n",
    "else:\n",
    "    print(\"wrong input\")"
   ]
  },
  {
   "cell_type": "code",
   "execution_count": 6,
   "id": "ccfcaefc",
   "metadata": {},
   "outputs": [],
   "source": [
    "# here 2nd condition is true. So, he stops its execution here and didn't checked remaining conditions\n",
    "# and here it didn't print else task also"
   ]
  },
  {
   "cell_type": "code",
   "execution_count": null,
   "id": "e0d19cc2",
   "metadata": {},
   "outputs": [],
   "source": []
  },
  {
   "cell_type": "markdown",
   "id": "9e62a840",
   "metadata": {},
   "source": [
    "### 4. Nested if-else"
   ]
  },
  {
   "cell_type": "raw",
   "id": "e333dc22",
   "metadata": {},
   "source": [
    "Syntax:\n",
    "\n",
    "if (condition):        # if and only this condition is true, then it'll enter/execute nested if\n",
    "    if (condition):\n",
    "        task\n",
    "    esle:\n",
    "        task\n",
    "esle:\n",
    "    task"
   ]
  },
  {
   "cell_type": "code",
   "execution_count": 27,
   "id": "03a4114b",
   "metadata": {},
   "outputs": [
    {
     "name": "stdout",
     "output_type": "stream",
     "text": [
      "Enter a number: 32\n",
      "The num is positive\n"
     ]
    }
   ],
   "source": [
    "num = int(input(\"Enter a number: \"))\n",
    "\n",
    "if (num>=0):\n",
    "    if (num==0):\n",
    "        print(\"num is zero\")\n",
    "    else:\n",
    "        print(\"The num is positive\")\n",
    "else:\n",
    "    print(\"The numb is negative\")"
   ]
  },
  {
   "cell_type": "code",
   "execution_count": 28,
   "id": "97a07cb1",
   "metadata": {},
   "outputs": [
    {
     "name": "stdout",
     "output_type": "stream",
     "text": [
      "Enter a number: -2\n",
      "The numb is negative\n"
     ]
    }
   ],
   "source": [
    "num = int(input(\"Enter a number: \"))\n",
    "\n",
    "if (num>=0):\n",
    "    if (num==0):\n",
    "        print(\"num is zero\")\n",
    "    else:\n",
    "        print(\"The num is positive\")\n",
    "else:\n",
    "    print(\"The numb is negative\")\n",
    "    "
   ]
  },
  {
   "cell_type": "code",
   "execution_count": 30,
   "id": "1beeeb1d",
   "metadata": {},
   "outputs": [
    {
     "name": "stdout",
     "output_type": "stream",
     "text": [
      "Enter a number: 0\n",
      "num is zero\n"
     ]
    }
   ],
   "source": [
    "num = int(input(\"Enter a number: \"))\n",
    "\n",
    "if (num>=0):\n",
    "    if (num==0):\n",
    "        print(\"num is zero\")\n",
    "    else:\n",
    "        print(\"The num is positive\")\n",
    "else:\n",
    "    print(\"The num is negative\")\n",
    "    "
   ]
  },
  {
   "cell_type": "code",
   "execution_count": null,
   "id": "32518227",
   "metadata": {},
   "outputs": [],
   "source": []
  },
  {
   "cell_type": "code",
   "execution_count": null,
   "id": "889e316e",
   "metadata": {},
   "outputs": [],
   "source": []
  },
  {
   "cell_type": "code",
   "execution_count": null,
   "id": "8f1496c7",
   "metadata": {},
   "outputs": [],
   "source": []
  },
  {
   "cell_type": "code",
   "execution_count": null,
   "id": "632aea55",
   "metadata": {},
   "outputs": [],
   "source": []
  },
  {
   "cell_type": "code",
   "execution_count": null,
   "id": "c0c0d048",
   "metadata": {},
   "outputs": [],
   "source": []
  },
  {
   "cell_type": "code",
   "execution_count": null,
   "id": "9d8ea21f",
   "metadata": {},
   "outputs": [],
   "source": []
  },
  {
   "cell_type": "code",
   "execution_count": null,
   "id": "2f29ddc8",
   "metadata": {},
   "outputs": [],
   "source": []
  },
  {
   "cell_type": "code",
   "execution_count": null,
   "id": "79017a1f",
   "metadata": {},
   "outputs": [],
   "source": []
  },
  {
   "cell_type": "code",
   "execution_count": null,
   "id": "23625729",
   "metadata": {},
   "outputs": [],
   "source": []
  },
  {
   "cell_type": "code",
   "execution_count": null,
   "id": "a71320fa",
   "metadata": {},
   "outputs": [],
   "source": []
  },
  {
   "cell_type": "code",
   "execution_count": null,
   "id": "4eabee1e",
   "metadata": {},
   "outputs": [],
   "source": []
  }
 ],
 "metadata": {
  "kernelspec": {
   "display_name": "Python 3 (ipykernel)",
   "language": "python",
   "name": "python3"
  },
  "language_info": {
   "codemirror_mode": {
    "name": "ipython",
    "version": 3
   },
   "file_extension": ".py",
   "mimetype": "text/x-python",
   "name": "python",
   "nbconvert_exporter": "python",
   "pygments_lexer": "ipython3",
   "version": "3.9.7"
  }
 },
 "nbformat": 4,
 "nbformat_minor": 5
}
