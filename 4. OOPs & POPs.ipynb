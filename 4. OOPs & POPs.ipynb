{
 "cells": [
  {
   "cell_type": "raw",
   "id": "704dcaf3",
   "metadata": {},
   "source": [
    "# Agenda\n",
    "\n",
    "---> classes\n",
    "---> objects\n",
    "---> constructors\n",
    "---> inheritance\n",
    "---> polymorphism\n",
    "---> encapsulation"
   ]
  },
  {
   "cell_type": "markdown",
   "id": "3fb2731e",
   "metadata": {},
   "source": [
    "## Introduction to OOPs (Object-oriented programming)"
   ]
  },
  {
   "cell_type": "code",
   "execution_count": 2,
   "id": "f3e01957",
   "metadata": {},
   "outputs": [],
   "source": [
    "# Python is a gereral purpose language which supports both oops and pops(Procedural-oriented proframming)\n",
    "\n",
    "# OOPs -> code is implemented using the concepts of classes and objects\n",
    "# POPs -> code is implemented using functions like numpy, pandas, matplotlib\n"
   ]
  },
  {
   "cell_type": "code",
   "execution_count": 3,
   "id": "7539bd89",
   "metadata": {},
   "outputs": [],
   "source": [
    "# Difference B/W OOPs and POPs\n",
    "\n",
    "# 1. object oriented programming           ,  structure oriented programming\n",
    "# 2. programs divided into objects         ,  programs divided into functions\n",
    "# 3. inheritance is used                   ,  inheritance is not used\n",
    "# 4. encapsulation for data hiding is used ,  encapsulation for data hiding is not used\n",
    "# 5. ex- C++ and Java                      ,  C and pascal\n",
    "\n",
    "# Python is both OOPs and POPs"
   ]
  },
  {
   "cell_type": "markdown",
   "id": "c42ef8d4",
   "metadata": {},
   "source": [
    "## Class"
   ]
  },
  {
   "cell_type": "code",
   "execution_count": 4,
   "id": "c8d8ab95",
   "metadata": {},
   "outputs": [],
   "source": [
    "# class : group of similar items ( in native/common language)\n",
    "\n",
    "# but in programming language it means -\n",
    "# class: is a blueprint that is containing a group of functions in a single memory value location\n",
    "\n",
    "# blueprint- overview/outline \n",
    "\n",
    "# class is a logical entity that contains some attributes and methods\n",
    "\n",
    "# Attributes - are the variables that belongs to a class\n",
    "# Methods - are funtion inside a class definition"
   ]
  },
  {
   "cell_type": "code",
   "execution_count": 1,
   "id": "c43aee23",
   "metadata": {},
   "outputs": [],
   "source": [
    "# Example - \n",
    "\n",
    "# file 1 -> fun1, fun2, fun3,fun7   ( they all are different funtion)\n",
    "# file 2 -> fun4, fun5, fun6,fun8\n",
    "# file 3 -> create a website using python\n",
    "\n",
    "# the main pgm(program): fun1, fun3, fun5, fun8  ( can we make main pgm using these funtions? )\n",
    "\n",
    "# Ans- No,bcz these functions have diferent file location. If we want to run main pgm, then functions should be in one location \n"
   ]
  },
  {
   "cell_type": "code",
   "execution_count": null,
   "id": "9dc2cd60",
   "metadata": {},
   "outputs": [],
   "source": []
  },
  {
   "cell_type": "markdown",
   "id": "385c84e6",
   "metadata": {},
   "source": [
    "## Object"
   ]
  },
  {
   "cell_type": "code",
   "execution_count": 1,
   "id": "2a4ad677",
   "metadata": {},
   "outputs": [],
   "source": [
    "# (if i'm building a house,then design or plan will be class and all the aspect in the house is called object like bed room, washroom, hall,etc)\n",
    "\n",
    "# it is instance(an variable or single occurrence of something) of a class or a real world entity that will be having certain behaviour, identity, state  \n",
    "\n",
    "# state -> represented by an attribute(variable) of an object\n",
    "# behaviour -> represented by methof of an object\n",
    "# identity -> gives a unique name to an object\n"
   ]
  },
  {
   "cell_type": "code",
   "execution_count": null,
   "id": "9f93826e",
   "metadata": {},
   "outputs": [],
   "source": [
    "# Example 1: \n",
    "\n",
    "# class of dogs->\n",
    "# D1. Max \n",
    "# D2. Daisy \n",
    "\n",
    "# (dogs are class and name of dog are object)\n",
    "\n",
    "# AttributeS ->\n",
    "# D1. Max - breed, color, age, gender\n",
    "# D2. Daisy - breed, color, age, gender\n",
    "\n",
    "# State ->\n",
    "# D1. Max - breed(lab), color(golden), age(2), gender(M)\n",
    "# D2. Daisy - breed(POM), color(white), age(1), gender(F)\n",
    "\n",
    "# Behavior ->\n",
    "# D1. Max - eat(), sleep(), brak()\n",
    "# D2. Daisy - eat(), sleep(), brak()\n",
    "\n",
    "# Identity ->\n",
    "# specific name given to dogs name like D1 and D2\n"
   ]
  },
  {
   "cell_type": "code",
   "execution_count": null,
   "id": "b5018feb",
   "metadata": {},
   "outputs": [],
   "source": [
    "# Example 2:\n",
    "\n",
    "# class of cars ->\n",
    "# Audi\n",
    "# Benz\n",
    "# Kia\n",
    "# Maruti\n",
    "# Tesla\n",
    "\n",
    "# types of cars -> objects \n",
    "# features -> attribute\n",
    "# behavior -> methods ( milage, speed)\n",
    "# indentity -> audi A3"
   ]
  },
  {
   "cell_type": "markdown",
   "id": "446bf25f",
   "metadata": {},
   "source": [
    "### Syntax of class and object:"
   ]
  },
  {
   "cell_type": "raw",
   "id": "bdb1805f",
   "metadata": {},
   "source": [
    "1. class syntax:\n",
    "\n",
    "def function_name(parameters):\n",
    "    task/statement\n",
    "\n",
    "class classname:\n",
    "    statement\n",
    "    \n",
    "    \n",
    "2. object syntax:\n",
    "\n",
    "object name = classname()"
   ]
  },
  {
   "cell_type": "code",
   "execution_count": 2,
   "id": "53e66456",
   "metadata": {},
   "outputs": [
    {
     "data": {
      "text/plain": [
       "30"
      ]
     },
     "execution_count": 2,
     "metadata": {},
     "output_type": "execute_result"
    }
   ],
   "source": [
    "def f1(a,b):\n",
    "    return a+b\n",
    "\n",
    "f1(10,20)"
   ]
  },
  {
   "cell_type": "code",
   "execution_count": 37,
   "id": "7ea30d5b",
   "metadata": {},
   "outputs": [],
   "source": [
    "# self-> is the 1st parameter that i have to use inside a method definition\n",
    "\n",
    "# what self do: it represents the instance(an variable or single occurrence of something) of a class\n",
    "\n",
    "# so that we can access the attributes and methods of the class\n",
    "\n",
    "# in simple words, it act as reference and we don't provide any value to self"
   ]
  },
  {
   "cell_type": "code",
   "execution_count": 24,
   "id": "c47fe6f1",
   "metadata": {},
   "outputs": [],
   "source": [
    "class demo:\n",
    "    def m1(self, a, b):\n",
    "        return a+b\n",
    "    def m2 (self,x,y):\n",
    "        return x*y"
   ]
  },
  {
   "cell_type": "code",
   "execution_count": 25,
   "id": "7576eb03",
   "metadata": {},
   "outputs": [
    {
     "ename": "NameError",
     "evalue": "name 'm1' is not defined",
     "output_type": "error",
     "traceback": [
      "\u001b[1;31m---------------------------------------------------------------------------\u001b[0m",
      "\u001b[1;31mNameError\u001b[0m                                 Traceback (most recent call last)",
      "\u001b[1;32m~\\AppData\\Local\\Temp/ipykernel_8868/2804277900.py\u001b[0m in \u001b[0;36m<module>\u001b[1;34m\u001b[0m\n\u001b[1;32m----> 1\u001b[1;33m \u001b[0mm1\u001b[0m\u001b[1;33m(\u001b[0m\u001b[1;36m20\u001b[0m\u001b[1;33m,\u001b[0m\u001b[1;36m10\u001b[0m\u001b[1;33m)\u001b[0m\u001b[1;33m\u001b[0m\u001b[1;33m\u001b[0m\u001b[0m\n\u001b[0m",
      "\u001b[1;31mNameError\u001b[0m: name 'm1' is not defined"
     ]
    }
   ],
   "source": [
    "m1(20,10)"
   ]
  },
  {
   "cell_type": "code",
   "execution_count": 26,
   "id": "cfac9bf9",
   "metadata": {},
   "outputs": [],
   "source": [
    "# here we got error bcz m1(method 1) can not b access without permission of owner(owner is class demo)\n",
    "\n",
    "# like in a house we can't take any funiture without permission\n",
    "\n",
    "# to get permission we need to create object"
   ]
  },
  {
   "cell_type": "code",
   "execution_count": 27,
   "id": "59dded75",
   "metadata": {},
   "outputs": [],
   "source": [
    "obj1 = demo()"
   ]
  },
  {
   "cell_type": "code",
   "execution_count": 28,
   "id": "fb33d232",
   "metadata": {},
   "outputs": [
    {
     "data": {
      "text/plain": [
       "30"
      ]
     },
     "execution_count": 28,
     "metadata": {},
     "output_type": "execute_result"
    }
   ],
   "source": [
    "obj1.m1(20,10)       # sum"
   ]
  },
  {
   "cell_type": "code",
   "execution_count": 29,
   "id": "99881f70",
   "metadata": {},
   "outputs": [
    {
     "data": {
      "text/plain": [
       "1000"
      ]
     },
     "execution_count": 29,
     "metadata": {},
     "output_type": "execute_result"
    }
   ],
   "source": [
    "obj1.m2(50,20)       # product"
   ]
  },
  {
   "cell_type": "code",
   "execution_count": null,
   "id": "f6f9e604",
   "metadata": {},
   "outputs": [],
   "source": []
  }
 ],
 "metadata": {
  "kernelspec": {
   "display_name": "Python 3 (ipykernel)",
   "language": "python",
   "name": "python3"
  },
  "language_info": {
   "codemirror_mode": {
    "name": "ipython",
    "version": 3
   },
   "file_extension": ".py",
   "mimetype": "text/x-python",
   "name": "python",
   "nbconvert_exporter": "python",
   "pygments_lexer": "ipython3",
   "version": "3.9.7"
  }
 },
 "nbformat": 4,
 "nbformat_minor": 5
}
