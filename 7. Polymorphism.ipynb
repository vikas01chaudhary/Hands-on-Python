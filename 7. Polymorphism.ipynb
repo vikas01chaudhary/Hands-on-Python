{
 "cells": [
  {
   "cell_type": "markdown",
   "id": "ce22d3bb",
   "metadata": {},
   "source": [
    "# Polymorphism"
   ]
  },
  {
   "cell_type": "code",
   "execution_count": null,
   "id": "a550a9ef",
   "metadata": {},
   "outputs": [],
   "source": [
    "# Polymorphism: Poly- many & morph- form\n",
    "# Functions/methods with same name but different parameters\n",
    "\n",
    "# Types:\n",
    "\n",
    "# 1. Method Overloading- python doesn't support, more than one method of the same class sharing same name but different no. of parameter\n",
    "\n",
    "#2. Method Overriding- same method with same number of parameters but re imlemented"
   ]
  },
  {
   "cell_type": "markdown",
   "id": "b8d5fdb4",
   "metadata": {},
   "source": [
    "## 1. Method Overloading"
   ]
  },
  {
   "cell_type": "code",
   "execution_count": 2,
   "id": "1fe8c1ff",
   "metadata": {},
   "outputs": [],
   "source": [
    "# Example 1-\n",
    "\n",
    "class add:\n",
    "    def m1(self,a,b):\n",
    "        return a+b\n",
    "    def m1(self,a,b,c):\n",
    "        return a+b+c"
   ]
  },
  {
   "cell_type": "code",
   "execution_count": 3,
   "id": "5fc448aa",
   "metadata": {},
   "outputs": [],
   "source": [
    "a =add()"
   ]
  },
  {
   "cell_type": "code",
   "execution_count": 5,
   "id": "ddf579d7",
   "metadata": {},
   "outputs": [
    {
     "data": {
      "text/plain": [
       "10"
      ]
     },
     "execution_count": 5,
     "metadata": {},
     "output_type": "execute_result"
    }
   ],
   "source": [
    "a.m1(2,3,5)"
   ]
  },
  {
   "cell_type": "code",
   "execution_count": 6,
   "id": "2b16e986",
   "metadata": {},
   "outputs": [
    {
     "ename": "TypeError",
     "evalue": "m1() missing 1 required positional argument: 'c'",
     "output_type": "error",
     "traceback": [
      "\u001b[1;31m---------------------------------------------------------------------------\u001b[0m",
      "\u001b[1;31mTypeError\u001b[0m                                 Traceback (most recent call last)",
      "\u001b[1;32m~\\AppData\\Local\\Temp/ipykernel_7368/1965790443.py\u001b[0m in \u001b[0;36m<module>\u001b[1;34m\u001b[0m\n\u001b[1;32m----> 1\u001b[1;33m \u001b[0ma\u001b[0m\u001b[1;33m.\u001b[0m\u001b[0mm1\u001b[0m\u001b[1;33m(\u001b[0m\u001b[1;36m2\u001b[0m\u001b[1;33m,\u001b[0m\u001b[1;36m5\u001b[0m\u001b[1;33m)\u001b[0m\u001b[1;33m\u001b[0m\u001b[1;33m\u001b[0m\u001b[0m\n\u001b[0m",
      "\u001b[1;31mTypeError\u001b[0m: m1() missing 1 required positional argument: 'c'"
     ]
    }
   ],
   "source": [
    "a.m1(2,5)     # it will give output??"
   ]
  },
  {
   "cell_type": "code",
   "execution_count": null,
   "id": "044a5f8c",
   "metadata": {},
   "outputs": [],
   "source": [
    "# no, it will not give output bcz it consider recently excuted method i.e 2nd method with 3 parameters\n",
    "\n",
    "# 1st method with 2 parameters will be consider as overloaded"
   ]
  },
  {
   "cell_type": "code",
   "execution_count": 7,
   "id": "eb772ad9",
   "metadata": {},
   "outputs": [],
   "source": [
    "# consider recently excuted method means:\n",
    "\n",
    "class add:\n",
    "    def m1(self,a,b,c):\n",
    "        return a+b+c\n",
    "    def m1(self,a,b):   # end/last method will we be considered\n",
    "        return a+b"
   ]
  },
  {
   "cell_type": "code",
   "execution_count": 8,
   "id": "a5b81d1a",
   "metadata": {},
   "outputs": [],
   "source": [
    "a1= add()"
   ]
  },
  {
   "cell_type": "code",
   "execution_count": 9,
   "id": "42d810bf",
   "metadata": {},
   "outputs": [
    {
     "ename": "TypeError",
     "evalue": "m1() takes 3 positional arguments but 4 were given",
     "output_type": "error",
     "traceback": [
      "\u001b[1;31m---------------------------------------------------------------------------\u001b[0m",
      "\u001b[1;31mTypeError\u001b[0m                                 Traceback (most recent call last)",
      "\u001b[1;32m~\\AppData\\Local\\Temp/ipykernel_7368/1271197713.py\u001b[0m in \u001b[0;36m<module>\u001b[1;34m\u001b[0m\n\u001b[1;32m----> 1\u001b[1;33m \u001b[0ma1\u001b[0m\u001b[1;33m.\u001b[0m\u001b[0mm1\u001b[0m\u001b[1;33m(\u001b[0m\u001b[1;36m2\u001b[0m\u001b[1;33m,\u001b[0m\u001b[1;36m3\u001b[0m\u001b[1;33m,\u001b[0m\u001b[1;36m5\u001b[0m\u001b[1;33m)\u001b[0m\u001b[1;33m\u001b[0m\u001b[1;33m\u001b[0m\u001b[0m\n\u001b[0m",
      "\u001b[1;31mTypeError\u001b[0m: m1() takes 3 positional arguments but 4 were given"
     ]
    }
   ],
   "source": [
    "a1.m1(2,3,5)      # this tym is shows error bcz it is not excuted recently"
   ]
  },
  {
   "cell_type": "code",
   "execution_count": 10,
   "id": "bb354bf5",
   "metadata": {},
   "outputs": [
    {
     "data": {
      "text/plain": [
       "7"
      ]
     },
     "execution_count": 10,
     "metadata": {},
     "output_type": "execute_result"
    }
   ],
   "source": [
    "a1.m1(2,5)      # this is excuted recently or we can say excuted et the end"
   ]
  },
  {
   "cell_type": "code",
   "execution_count": 11,
   "id": "cf001d4a",
   "metadata": {},
   "outputs": [],
   "source": [
    "# Python does not considered overloading"
   ]
  },
  {
   "cell_type": "code",
   "execution_count": null,
   "id": "cf845536",
   "metadata": {},
   "outputs": [],
   "source": []
  },
  {
   "cell_type": "markdown",
   "id": "4298f73b",
   "metadata": {},
   "source": [
    "## 2. Method Overriding"
   ]
  },
  {
   "cell_type": "code",
   "execution_count": null,
   "id": "c8265ffe",
   "metadata": {},
   "outputs": [],
   "source": [
    "# same method with same number of parameters but re imlemented"
   ]
  },
  {
   "cell_type": "code",
   "execution_count": 1,
   "id": "541ccec9",
   "metadata": {},
   "outputs": [],
   "source": [
    "# Example-\n",
    "\n",
    "class add:\n",
    "    def m1(self,x,y,z):\n",
    "        return x+y+z\n",
    "    \n",
    "class test(add):\n",
    "    def m1(self,x,y,z):\n",
    "        return x*y*z\n",
    "        "
   ]
  },
  {
   "cell_type": "code",
   "execution_count": 2,
   "id": "99c7fa87",
   "metadata": {},
   "outputs": [],
   "source": [
    "a1=add()"
   ]
  },
  {
   "cell_type": "code",
   "execution_count": 3,
   "id": "3ae7337b",
   "metadata": {},
   "outputs": [
    {
     "data": {
      "text/plain": [
       "6"
      ]
     },
     "execution_count": 3,
     "metadata": {},
     "output_type": "execute_result"
    }
   ],
   "source": [
    "a1.m1(2,2,2)    # here we have done sum"
   ]
  },
  {
   "cell_type": "code",
   "execution_count": 5,
   "id": "6400b486",
   "metadata": {},
   "outputs": [],
   "source": [
    "a2=test()"
   ]
  },
  {
   "cell_type": "code",
   "execution_count": 6,
   "id": "5fe51c43",
   "metadata": {},
   "outputs": [
    {
     "data": {
      "text/plain": [
       "8"
      ]
     },
     "execution_count": 6,
     "metadata": {},
     "output_type": "execute_result"
    }
   ],
   "source": [
    "a2.m1(2,2,2)    # here we have done product"
   ]
  },
  {
   "cell_type": "code",
   "execution_count": null,
   "id": "f0d5e194",
   "metadata": {},
   "outputs": [],
   "source": []
  },
  {
   "cell_type": "code",
   "execution_count": null,
   "id": "ccb71184",
   "metadata": {},
   "outputs": [],
   "source": []
  },
  {
   "cell_type": "code",
   "execution_count": null,
   "id": "958cb110",
   "metadata": {},
   "outputs": [],
   "source": []
  }
 ],
 "metadata": {
  "kernelspec": {
   "display_name": "Python 3 (ipykernel)",
   "language": "python",
   "name": "python3"
  },
  "language_info": {
   "codemirror_mode": {
    "name": "ipython",
    "version": 3
   },
   "file_extension": ".py",
   "mimetype": "text/x-python",
   "name": "python",
   "nbconvert_exporter": "python",
   "pygments_lexer": "ipython3",
   "version": "3.9.7"
  }
 },
 "nbformat": 4,
 "nbformat_minor": 5
}
