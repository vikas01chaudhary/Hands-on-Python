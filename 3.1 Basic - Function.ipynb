{
 "cells": [
  {
   "cell_type": "markdown",
   "id": "e70ca50f",
   "metadata": {},
   "source": [
    "# Function:"
   ]
  },
  {
   "cell_type": "markdown",
   "id": "e9ee0794",
   "metadata": {},
   "source": [
    "1. in-built function\n",
    "2. user defined function\n",
    "3. lambda function"
   ]
  },
  {
   "cell_type": "markdown",
   "id": "5f19313a",
   "metadata": {},
   "source": [
    "### 1. In-built function"
   ]
  },
  {
   "cell_type": "code",
   "execution_count": 1,
   "id": "fa4ee4e0",
   "metadata": {},
   "outputs": [],
   "source": [
    "# They are like len, range, dict, bin, type, list, class, etc"
   ]
  },
  {
   "cell_type": "code",
   "execution_count": 2,
   "id": "fa8278a2",
   "metadata": {},
   "outputs": [
    {
     "name": "stdout",
     "output_type": "stream",
     "text": [
      "hello\n"
     ]
    }
   ],
   "source": [
    "print(\"hello\")"
   ]
  },
  {
   "cell_type": "code",
   "execution_count": 6,
   "id": "24aee35e",
   "metadata": {},
   "outputs": [
    {
     "data": {
      "text/plain": [
       "[0, 1, 2, 3, 4, 5, 6, 7, 8, 9]"
      ]
     },
     "execution_count": 6,
     "metadata": {},
     "output_type": "execute_result"
    }
   ],
   "source": [
    "list(range(10))"
   ]
  },
  {
   "cell_type": "code",
   "execution_count": 7,
   "id": "76cc4fc3",
   "metadata": {},
   "outputs": [
    {
     "data": {
      "text/plain": [
       "9"
      ]
     },
     "execution_count": 7,
     "metadata": {},
     "output_type": "execute_result"
    }
   ],
   "source": [
    "l1 = [12,3,4,5,6,8,4,2,6]\n",
    "\n",
    "len(l1)"
   ]
  },
  {
   "cell_type": "code",
   "execution_count": 13,
   "id": "78b3c5fd",
   "metadata": {},
   "outputs": [
    {
     "data": {
      "text/plain": [
       "75"
      ]
     },
     "execution_count": 13,
     "metadata": {},
     "output_type": "execute_result"
    }
   ],
   "source": [
    "x= 10\n",
    "b= 65\n",
    "\n",
    "sum((x,b))"
   ]
  },
  {
   "cell_type": "code",
   "execution_count": null,
   "id": "06bd4f5d",
   "metadata": {},
   "outputs": [],
   "source": []
  },
  {
   "cell_type": "markdown",
   "id": "e768a68a",
   "metadata": {},
   "source": [
    "### 2. User defined function:"
   ]
  },
  {
   "cell_type": "raw",
   "id": "9d28a796",
   "metadata": {},
   "source": [
    "Syntax:\n",
    "\n",
    "def function_name(arguments/name):\n",
    "        task/statement"
   ]
  },
  {
   "cell_type": "code",
   "execution_count": 17,
   "id": "6909a323",
   "metadata": {},
   "outputs": [
    {
     "data": {
      "text/plain": [
       "5.0"
      ]
     },
     "execution_count": 17,
     "metadata": {},
     "output_type": "execute_result"
    }
   ],
   "source": [
    "10/2        # it gives quotient"
   ]
  },
  {
   "cell_type": "code",
   "execution_count": 18,
   "id": "d0a77924",
   "metadata": {},
   "outputs": [
    {
     "data": {
      "text/plain": [
       "0"
      ]
     },
     "execution_count": 18,
     "metadata": {},
     "output_type": "execute_result"
    }
   ],
   "source": [
    "10%2       # % gives only remainer"
   ]
  },
  {
   "cell_type": "code",
   "execution_count": 5,
   "id": "39daad35",
   "metadata": {},
   "outputs": [],
   "source": [
    "# Example 1:  I want to check my no. is even or odd?\n",
    "\n",
    "#num= int(input(\"Enter your number: \"))\n",
    "\n",
    "def even_or_odd(num):\n",
    "    if (num%2==0):\n",
    "        print(num,\" is a even number\")\n",
    "    else:\n",
    "        print(num,\" is a odd number\")\n"
   ]
  },
  {
   "cell_type": "code",
   "execution_count": 6,
   "id": "6cbff0e8",
   "metadata": {},
   "outputs": [
    {
     "name": "stdout",
     "output_type": "stream",
     "text": [
      "55  is a odd number\n"
     ]
    }
   ],
   "source": [
    "even_or_odd(55)     # in user defined function we have to call the function with its name"
   ]
  },
  {
   "cell_type": "code",
   "execution_count": 7,
   "id": "a9171e86",
   "metadata": {},
   "outputs": [
    {
     "name": "stdout",
     "output_type": "stream",
     "text": [
      "440  is a even number\n"
     ]
    }
   ],
   "source": [
    "even_or_odd(440)"
   ]
  },
  {
   "cell_type": "code",
   "execution_count": 8,
   "id": "7e488309",
   "metadata": {},
   "outputs": [],
   "source": [
    "# Example 2:\n",
    "\n",
    "def add(a,b):\n",
    "    c = a+b\n",
    "    print(c)"
   ]
  },
  {
   "cell_type": "code",
   "execution_count": 9,
   "id": "9026dc31",
   "metadata": {},
   "outputs": [
    {
     "name": "stdout",
     "output_type": "stream",
     "text": [
      "30\n"
     ]
    }
   ],
   "source": [
    "add(10,20)"
   ]
  },
  {
   "cell_type": "code",
   "execution_count": null,
   "id": "40a149cc",
   "metadata": {},
   "outputs": [],
   "source": []
  },
  {
   "cell_type": "markdown",
   "id": "c390b5f5",
   "metadata": {},
   "source": [
    "### 3. Lambda Function:"
   ]
  },
  {
   "cell_type": "code",
   "execution_count": 26,
   "id": "e9c8c99e",
   "metadata": {},
   "outputs": [],
   "source": [
    "# It is one line function, used whenever we need to execute any random function in middle of big code execution"
   ]
  },
  {
   "cell_type": "raw",
   "id": "3b44994f",
   "metadata": {},
   "source": [
    "Syntax:\n",
    "\n",
    "function_name= lambda arguments/name: task / statement"
   ]
  },
  {
   "cell_type": "code",
   "execution_count": 27,
   "id": "9ebf1ad5",
   "metadata": {},
   "outputs": [],
   "source": [
    "# Example 1:  I want to print square of no.\n",
    "\n",
    "square = lambda x: x*x"
   ]
  },
  {
   "cell_type": "code",
   "execution_count": 28,
   "id": "b55f31dd",
   "metadata": {},
   "outputs": [
    {
     "data": {
      "text/plain": [
       "49"
      ]
     },
     "execution_count": 28,
     "metadata": {},
     "output_type": "execute_result"
    }
   ],
   "source": [
    "square(7)"
   ]
  },
  {
   "cell_type": "code",
   "execution_count": 29,
   "id": "0f30f139",
   "metadata": {},
   "outputs": [],
   "source": [
    "# Example 2: addition\n",
    "\n",
    "\n",
    "add= lambda a,b,c: a+b+c"
   ]
  },
  {
   "cell_type": "code",
   "execution_count": 30,
   "id": "fbbaf08f",
   "metadata": {},
   "outputs": [
    {
     "data": {
      "text/plain": [
       "80"
      ]
     },
     "execution_count": 30,
     "metadata": {},
     "output_type": "execute_result"
    }
   ],
   "source": [
    "add(10,20,50)"
   ]
  },
  {
   "cell_type": "code",
   "execution_count": null,
   "id": "c7ef2739",
   "metadata": {},
   "outputs": [],
   "source": []
  },
  {
   "cell_type": "code",
   "execution_count": null,
   "id": "6851e446",
   "metadata": {},
   "outputs": [],
   "source": []
  },
  {
   "cell_type": "markdown",
   "id": "021410d7",
   "metadata": {},
   "source": [
    "# List Comprehension"
   ]
  },
  {
   "cell_type": "code",
   "execution_count": 31,
   "id": "0076b20f",
   "metadata": {},
   "outputs": [],
   "source": [
    "# including - we are performing operation inside the list\n",
    "\n",
    "# mostly for loop is used"
   ]
  },
  {
   "cell_type": "code",
   "execution_count": 10,
   "id": "3f5ecde0",
   "metadata": {},
   "outputs": [],
   "source": [
    "# Example: I want to print square of no. from 1 to 10\n",
    "\n",
    "square = [ x*x for x in range(11)]"
   ]
  },
  {
   "cell_type": "code",
   "execution_count": 11,
   "id": "6099fe3d",
   "metadata": {},
   "outputs": [
    {
     "data": {
      "text/plain": [
       "[0, 1, 4, 9, 16, 25, 36, 49, 64, 81, 100]"
      ]
     },
     "execution_count": 11,
     "metadata": {},
     "output_type": "execute_result"
    }
   ],
   "source": [
    "square"
   ]
  },
  {
   "cell_type": "code",
   "execution_count": null,
   "id": "769cd077",
   "metadata": {},
   "outputs": [],
   "source": []
  }
 ],
 "metadata": {
  "kernelspec": {
   "display_name": "Python 3 (ipykernel)",
   "language": "python",
   "name": "python3"
  },
  "language_info": {
   "codemirror_mode": {
    "name": "ipython",
    "version": 3
   },
   "file_extension": ".py",
   "mimetype": "text/x-python",
   "name": "python",
   "nbconvert_exporter": "python",
   "pygments_lexer": "ipython3",
   "version": "3.9.7"
  }
 },
 "nbformat": 4,
 "nbformat_minor": 5
}
