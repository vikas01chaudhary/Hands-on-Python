{
 "cells": [
  {
   "cell_type": "markdown",
   "id": "7c0f06ad",
   "metadata": {},
   "source": [
    "# Encapsulation"
   ]
  },
  {
   "cell_type": "code",
   "execution_count": 2,
   "id": "6b2085dc",
   "metadata": {},
   "outputs": [],
   "source": [
    "# the process of wrapping up the attributes(data) and method(data members) into a single identity\n",
    "\n",
    "# in other words, refered as data hiding\n",
    "\n",
    "# Benifit-\n",
    "# put restriction on accessing the data members\n",
    "# prevents accidental modification of data\n",
    "# introduces security to your code"
   ]
  },
  {
   "cell_type": "code",
   "execution_count": null,
   "id": "275f9a87",
   "metadata": {},
   "outputs": [],
   "source": [
    "# IMPLEMENTATION OF ENCAPSULATION-\n",
    "\n",
    "# Public ->     accessed both inside and outside the class, (attribute name=value)\n",
    "# Proctected -> accessed inside the class as well as outside in a sub class (child class), (_attribute name=value)\n",
    "# Private ->    accessed inside  class #hide the data from the unwanted users and implements the features of secutrity,(__attribute name=value)"
   ]
  },
  {
   "cell_type": "code",
   "execution_count": null,
   "id": "2ba9a604",
   "metadata": {},
   "outputs": [],
   "source": []
  },
  {
   "cell_type": "markdown",
   "id": "0f66cdb2",
   "metadata": {},
   "source": [
    "## 1. Public"
   ]
  },
  {
   "cell_type": "code",
   "execution_count": 49,
   "id": "f4518561",
   "metadata": {},
   "outputs": [],
   "source": [
    "class demo:\n",
    "    t= 69\n",
    "    def m1(self):\n",
    "        print(\"Value is: \",self.t)"
   ]
  },
  {
   "cell_type": "code",
   "execution_count": 50,
   "id": "fb082065",
   "metadata": {},
   "outputs": [],
   "source": [
    "o1=demo"
   ]
  },
  {
   "cell_type": "code",
   "execution_count": 51,
   "id": "f9f42c01",
   "metadata": {},
   "outputs": [
    {
     "data": {
      "text/plain": [
       "69"
      ]
     },
     "execution_count": 51,
     "metadata": {},
     "output_type": "execute_result"
    }
   ],
   "source": [
    "o1.t"
   ]
  },
  {
   "cell_type": "code",
   "execution_count": 53,
   "id": "228b28d8",
   "metadata": {},
   "outputs": [
    {
     "ename": "NameError",
     "evalue": "name 'self' is not defined",
     "output_type": "error",
     "traceback": [
      "\u001b[1;31m---------------------------------------------------------------------------\u001b[0m",
      "\u001b[1;31mNameError\u001b[0m                                 Traceback (most recent call last)",
      "\u001b[1;32m~\\AppData\\Local\\Temp/ipykernel_6432/4138183791.py\u001b[0m in \u001b[0;36m<module>\u001b[1;34m\u001b[0m\n\u001b[1;32m----> 1\u001b[1;33m \u001b[0mo1\u001b[0m\u001b[1;33m.\u001b[0m\u001b[0mm1\u001b[0m\u001b[1;33m(\u001b[0m\u001b[0mself\u001b[0m\u001b[1;33m)\u001b[0m\u001b[1;33m\u001b[0m\u001b[1;33m\u001b[0m\u001b[0m\n\u001b[0m",
      "\u001b[1;31mNameError\u001b[0m: name 'self' is not defined"
     ]
    }
   ],
   "source": [
    "o1.m1(self)   "
   ]
  },
  {
   "cell_type": "code",
   "execution_count": 24,
   "id": "34842170",
   "metadata": {},
   "outputs": [
    {
     "data": {
      "text/plain": [
       "69"
      ]
     },
     "execution_count": 24,
     "metadata": {},
     "output_type": "execute_result"
    }
   ],
   "source": [
    "demo.t"
   ]
  },
  {
   "cell_type": "code",
   "execution_count": null,
   "id": "5bbd7575",
   "metadata": {},
   "outputs": [],
   "source": [
    "# it means all the members present in the class as well as outside the class can able to access the attribute i.e \"t\""
   ]
  },
  {
   "cell_type": "code",
   "execution_count": null,
   "id": "4b4e998e",
   "metadata": {},
   "outputs": [],
   "source": []
  },
  {
   "cell_type": "markdown",
   "id": "34305e8b",
   "metadata": {},
   "source": [
    "## 2. Protected"
   ]
  },
  {
   "cell_type": "code",
   "execution_count": 31,
   "id": "e3a90ae0",
   "metadata": {},
   "outputs": [],
   "source": [
    "class demo:\n",
    "    _t=89\n",
    "    def val(self):\n",
    "        print(\"Value is: \", self._t)\n",
    "        \n",
    "class xyz(demo):\n",
    "    def v(self):\n",
    "        print(\"Value from parent: \",self._t)"
   ]
  },
  {
   "cell_type": "code",
   "execution_count": 32,
   "id": "5d0cc251",
   "metadata": {},
   "outputs": [],
   "source": [
    "o2=xyz"
   ]
  },
  {
   "cell_type": "code",
   "execution_count": 33,
   "id": "121df6df",
   "metadata": {},
   "outputs": [
    {
     "data": {
      "text/plain": [
       "89"
      ]
     },
     "execution_count": 33,
     "metadata": {},
     "output_type": "execute_result"
    }
   ],
   "source": [
    "o2._t"
   ]
  },
  {
   "cell_type": "code",
   "execution_count": 30,
   "id": "fc29ec94",
   "metadata": {},
   "outputs": [
    {
     "ename": "TypeError",
     "evalue": "v() missing 1 required positional argument: 'self'",
     "output_type": "error",
     "traceback": [
      "\u001b[1;31m---------------------------------------------------------------------------\u001b[0m",
      "\u001b[1;31mTypeError\u001b[0m                                 Traceback (most recent call last)",
      "\u001b[1;32m~\\AppData\\Local\\Temp/ipykernel_6432/2042441082.py\u001b[0m in \u001b[0;36m<module>\u001b[1;34m\u001b[0m\n\u001b[1;32m----> 1\u001b[1;33m \u001b[0mo2\u001b[0m\u001b[1;33m.\u001b[0m\u001b[0mv\u001b[0m\u001b[1;33m(\u001b[0m\u001b[1;33m)\u001b[0m\u001b[1;33m\u001b[0m\u001b[1;33m\u001b[0m\u001b[0m\n\u001b[0m",
      "\u001b[1;31mTypeError\u001b[0m: v() missing 1 required positional argument: 'self'"
     ]
    }
   ],
   "source": [
    "o2.v()"
   ]
  },
  {
   "cell_type": "code",
   "execution_count": 37,
   "id": "4e5a7aba",
   "metadata": {},
   "outputs": [
    {
     "data": {
      "text/plain": [
       "89"
      ]
     },
     "execution_count": 37,
     "metadata": {},
     "output_type": "execute_result"
    }
   ],
   "source": [
    "demo._t"
   ]
  },
  {
   "cell_type": "code",
   "execution_count": null,
   "id": "9a91c642",
   "metadata": {},
   "outputs": [],
   "source": []
  },
  {
   "cell_type": "markdown",
   "id": "089dc2d6",
   "metadata": {},
   "source": [
    "## 3. Private"
   ]
  },
  {
   "cell_type": "code",
   "execution_count": 44,
   "id": "d67f3053",
   "metadata": {},
   "outputs": [],
   "source": [
    "class demo:\n",
    "    __t=90\n",
    "    def val(self):\n",
    "        print(\"Value is: \",self.__t)"
   ]
  },
  {
   "cell_type": "code",
   "execution_count": 45,
   "id": "503bb576",
   "metadata": {},
   "outputs": [],
   "source": [
    "o = demo()"
   ]
  },
  {
   "cell_type": "code",
   "execution_count": 46,
   "id": "0eb76b25",
   "metadata": {},
   "outputs": [
    {
     "ename": "AttributeError",
     "evalue": "'demo' object has no attribute '__t'",
     "output_type": "error",
     "traceback": [
      "\u001b[1;31m---------------------------------------------------------------------------\u001b[0m",
      "\u001b[1;31mAttributeError\u001b[0m                            Traceback (most recent call last)",
      "\u001b[1;32m~\\AppData\\Local\\Temp/ipykernel_6432/3775659015.py\u001b[0m in \u001b[0;36m<module>\u001b[1;34m\u001b[0m\n\u001b[1;32m----> 1\u001b[1;33m \u001b[0mo\u001b[0m\u001b[1;33m.\u001b[0m\u001b[0m__t\u001b[0m\u001b[1;33m\u001b[0m\u001b[1;33m\u001b[0m\u001b[0m\n\u001b[0m",
      "\u001b[1;31mAttributeError\u001b[0m: 'demo' object has no attribute '__t'"
     ]
    }
   ],
   "source": [
    "o.__t"
   ]
  },
  {
   "cell_type": "code",
   "execution_count": 47,
   "id": "2b8b90aa",
   "metadata": {},
   "outputs": [
    {
     "ename": "AttributeError",
     "evalue": "type object 'demo' has no attribute '__t'",
     "output_type": "error",
     "traceback": [
      "\u001b[1;31m---------------------------------------------------------------------------\u001b[0m",
      "\u001b[1;31mAttributeError\u001b[0m                            Traceback (most recent call last)",
      "\u001b[1;32m~\\AppData\\Local\\Temp/ipykernel_6432/1353859446.py\u001b[0m in \u001b[0;36m<module>\u001b[1;34m\u001b[0m\n\u001b[1;32m----> 1\u001b[1;33m \u001b[0mdemo\u001b[0m\u001b[1;33m.\u001b[0m\u001b[0m__t\u001b[0m\u001b[1;33m\u001b[0m\u001b[1;33m\u001b[0m\u001b[0m\n\u001b[0m",
      "\u001b[1;31mAttributeError\u001b[0m: type object 'demo' has no attribute '__t'"
     ]
    }
   ],
   "source": [
    "demo.__t"
   ]
  },
  {
   "cell_type": "code",
   "execution_count": 48,
   "id": "e42eac7a",
   "metadata": {},
   "outputs": [
    {
     "name": "stdout",
     "output_type": "stream",
     "text": [
      "Value is:  90\n"
     ]
    }
   ],
   "source": [
    "o.val()"
   ]
  },
  {
   "cell_type": "code",
   "execution_count": null,
   "id": "128c1326",
   "metadata": {},
   "outputs": [],
   "source": [
    "# so, difference is only data member(i.e val) can access the attribute, no one from outside class can access"
   ]
  },
  {
   "cell_type": "code",
   "execution_count": null,
   "id": "5609574f",
   "metadata": {},
   "outputs": [],
   "source": []
  }
 ],
 "metadata": {
  "kernelspec": {
   "display_name": "Python 3 (ipykernel)",
   "language": "python",
   "name": "python3"
  },
  "language_info": {
   "codemirror_mode": {
    "name": "ipython",
    "version": 3
   },
   "file_extension": ".py",
   "mimetype": "text/x-python",
   "name": "python",
   "nbconvert_exporter": "python",
   "pygments_lexer": "ipython3",
   "version": "3.9.7"
  }
 },
 "nbformat": 4,
 "nbformat_minor": 5
}
