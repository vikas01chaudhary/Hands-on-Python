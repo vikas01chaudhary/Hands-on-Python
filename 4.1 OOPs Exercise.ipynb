{
 "cells": [
  {
   "cell_type": "markdown",
   "id": "c14b5fbd",
   "metadata": {},
   "source": [
    "## Case Study\n"
   ]
  },
  {
   "cell_type": "raw",
   "id": "ef821ac9",
   "metadata": {},
   "source": [
    "Bank Account Case Study:\n",
    "\n",
    "After opening the account main balance will 0 for every person. Build a code for checking following things:\n",
    "\n",
    "1. check the main balance\n",
    "2. check balance\n",
    "3. deposit amount\n",
    "4. withdraw amount\n"
   ]
  },
  {
   "cell_type": "raw",
   "id": "d53646ed",
   "metadata": {},
   "source": [
    "After opening the account main balance will 0 for every person. Build a code for checking following things:\n",
    "\n",
    "1. check the main balance --> 0 (global veriable)\n",
    "2. check balance -->  view the balance\n",
    "3. deposit  -->  mb = mb + x               (mb- main balance, x- deposit amount)\n",
    "4. withdraw  --> condition: mb >= y        (y- withdraw amount) \n",
    "                        mb = mb - y\n",
    "                  else: insufficint balance\n",
    "                  "
   ]
  },
  {
   "cell_type": "code",
   "execution_count": 8,
   "id": "b617daec",
   "metadata": {},
   "outputs": [],
   "source": [
    "# Solution:\n",
    "\n",
    "\n",
    "class bank_account:\n",
    "    main_bal= 0\n",
    "    \n",
    "    def check_bal(self):\n",
    "        print(\"The current balance is: \",self.main_bal)\n",
    "    \n",
    "    def deposit(self,x):\n",
    "        self.main_bal= x + self.main_bal\n",
    "        print(x, \"amount is credited to your account\")\n",
    "        \n",
    "    def withdraw(self,y):\n",
    "        if self.main_bal>=y:\n",
    "            self.main_bal = self.main_bal - y\n",
    "            print (y, \"amount is debited from your account \")\n",
    "        \n",
    "        else:\n",
    "            print(\"Insufficint balance\")\n",
    "        "
   ]
  },
  {
   "cell_type": "code",
   "execution_count": 9,
   "id": "624f4aad",
   "metadata": {},
   "outputs": [],
   "source": [
    "person1=bank_account()"
   ]
  },
  {
   "cell_type": "code",
   "execution_count": 10,
   "id": "03a7308c",
   "metadata": {},
   "outputs": [
    {
     "name": "stdout",
     "output_type": "stream",
     "text": [
      "The current balance is:  0\n"
     ]
    }
   ],
   "source": [
    "person1.check_bal()"
   ]
  },
  {
   "cell_type": "code",
   "execution_count": 11,
   "id": "37d6c1ee",
   "metadata": {},
   "outputs": [
    {
     "name": "stdout",
     "output_type": "stream",
     "text": [
      "5000 amount is credited to your account\n"
     ]
    }
   ],
   "source": [
    "person1.deposit(5000)"
   ]
  },
  {
   "cell_type": "code",
   "execution_count": 12,
   "id": "56169a22",
   "metadata": {},
   "outputs": [
    {
     "name": "stdout",
     "output_type": "stream",
     "text": [
      "The current balance is:  5000\n"
     ]
    }
   ],
   "source": [
    "person1.check_bal()"
   ]
  },
  {
   "cell_type": "code",
   "execution_count": 13,
   "id": "34eb1bca",
   "metadata": {},
   "outputs": [
    {
     "name": "stdout",
     "output_type": "stream",
     "text": [
      "Insufficint balance\n"
     ]
    }
   ],
   "source": [
    "person1.withdraw(10000)"
   ]
  },
  {
   "cell_type": "code",
   "execution_count": 14,
   "id": "39ad69e8",
   "metadata": {},
   "outputs": [
    {
     "name": "stdout",
     "output_type": "stream",
     "text": [
      "4000 amount is debited from your account \n"
     ]
    }
   ],
   "source": [
    "person1.withdraw(4000)"
   ]
  },
  {
   "cell_type": "code",
   "execution_count": 15,
   "id": "10445955",
   "metadata": {},
   "outputs": [
    {
     "name": "stdout",
     "output_type": "stream",
     "text": [
      "The current balance is:  1000\n"
     ]
    }
   ],
   "source": [
    "person1.check_bal()"
   ]
  },
  {
   "cell_type": "code",
   "execution_count": null,
   "id": "8eed408f",
   "metadata": {},
   "outputs": [],
   "source": []
  },
  {
   "cell_type": "code",
   "execution_count": 16,
   "id": "9408356f",
   "metadata": {},
   "outputs": [],
   "source": [
    "person2=bank_account()"
   ]
  },
  {
   "cell_type": "code",
   "execution_count": 17,
   "id": "c89ded77",
   "metadata": {},
   "outputs": [
    {
     "name": "stdout",
     "output_type": "stream",
     "text": [
      "The current balance is:  0\n"
     ]
    }
   ],
   "source": [
    "person2.check_bal()"
   ]
  },
  {
   "cell_type": "code",
   "execution_count": 18,
   "id": "0533e254",
   "metadata": {},
   "outputs": [
    {
     "name": "stdout",
     "output_type": "stream",
     "text": [
      "The current balance is:  1000\n"
     ]
    }
   ],
   "source": [
    "person1.check_bal()"
   ]
  },
  {
   "cell_type": "code",
   "execution_count": null,
   "id": "c94b79f8",
   "metadata": {},
   "outputs": [],
   "source": []
  }
 ],
 "metadata": {
  "kernelspec": {
   "display_name": "Python 3 (ipykernel)",
   "language": "python",
   "name": "python3"
  },
  "language_info": {
   "codemirror_mode": {
    "name": "ipython",
    "version": 3
   },
   "file_extension": ".py",
   "mimetype": "text/x-python",
   "name": "python",
   "nbconvert_exporter": "python",
   "pygments_lexer": "ipython3",
   "version": "3.9.7"
  }
 },
 "nbformat": 4,
 "nbformat_minor": 5
}
