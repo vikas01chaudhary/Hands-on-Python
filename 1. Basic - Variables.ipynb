{
 "cells": [
  {
   "cell_type": "markdown",
   "id": "03d9f09b",
   "metadata": {},
   "source": [
    "# Python Basics"
   ]
  },
  {
   "cell_type": "markdown",
   "id": "bc31775a",
   "metadata": {},
   "source": [
    "## Topics :\n",
    "\n",
    "1. Variables\n",
    "2. Tuples\n",
    "3. Datatypes\n",
    "4. Indexing\n",
    "5. Slicing\n",
    "6. Conditional Statement\n",
    "7. Looping Statement\n",
    "8. Functions\n",
    "9. List Comprehension"
   ]
  },
  {
   "cell_type": "markdown",
   "id": "73316dc7",
   "metadata": {},
   "source": [
    "### 1. Varibles - a location/container which stores the data"
   ]
  },
  {
   "cell_type": "code",
   "execution_count": 15,
   "id": "e55a04f3",
   "metadata": {},
   "outputs": [
    {
     "data": {
      "text/plain": [
       "10"
      ]
     },
     "execution_count": 15,
     "metadata": {},
     "output_type": "execute_result"
    }
   ],
   "source": [
    "a= 10  # here 10 is literal\n",
    "\n",
    "a\n",
    "\n",
    "# Liternal - the value which you store on a variable is known as literal"
   ]
  },
  {
   "cell_type": "markdown",
   "id": "85c4f71b",
   "metadata": {},
   "source": [
    "### Rule to define a variable:\n"
   ]
  },
  {
   "cell_type": "markdown",
   "id": "fa81a49c",
   "metadata": {},
   "source": [
    "1. keywords / inbuild functions cannot be assigned to the variable \n",
    "\n",
    "##### keywords / inbuild functions like:\n",
    "\n",
    "`-` print\n",
    "<br>\n",
    "`-` type\n",
    "<br>\n",
    "`-` len\n",
    "<br>\n",
    "`-` break\n",
    "<br>\n",
    "`-` expect\n",
    "<br>\n",
    "`-` sum\n",
    "<br>\n",
    "`-` class\n",
    "<br>\n",
    "`-` finally \n",
    "<br>\n",
    "`-` and\n",
    "<br>\n",
    "`-` continue\n",
    "<br>\n",
    "`-` sa\n",
    "<br>\n",
    "`-` in\n",
    "<br>\n",
    "`-` def\n",
    "<br>\n",
    "`-` del\n",
    "<br>\n",
    "`-` global \n",
    "\n",
    "2. Variable can start with a letter or a '_' but not with a number\n",
    "\n",
    "3. Variables cannot have any special symbols rather than '_' "
   ]
  },
  {
   "cell_type": "code",
   "execution_count": 2,
   "id": "6df8cde8",
   "metadata": {},
   "outputs": [],
   "source": [
    "# NOTE: Python is a case sensitive language"
   ]
  },
  {
   "cell_type": "markdown",
   "id": "cbd26d3b",
   "metadata": {},
   "source": [
    "### Static variable input and Dynamic varialbe input\n",
    "\n",
    "Static - a fixed value to the variable\n",
    "<br>\n",
    "Dynamic - a changing value in each and every execution"
   ]
  },
  {
   "cell_type": "code",
   "execution_count": 3,
   "id": "a8f17dc2",
   "metadata": {},
   "outputs": [
    {
     "name": "stdout",
     "output_type": "stream",
     "text": [
      "50\n"
     ]
    }
   ],
   "source": [
    "# Static\n",
    "\n",
    "a = 20\n",
    "b = 30 \n",
    "\n",
    "c = a+b\n",
    "print(c)"
   ]
  },
  {
   "cell_type": "code",
   "execution_count": 4,
   "id": "5ba3fbb9",
   "metadata": {},
   "outputs": [],
   "source": [
    "# Dynamic\n",
    "\n",
    "#Syntax - variable name = input()"
   ]
  },
  {
   "cell_type": "code",
   "execution_count": 1,
   "id": "169efbf1",
   "metadata": {},
   "outputs": [
    {
     "name": "stdout",
     "output_type": "stream",
     "text": [
      "enter your age: 22\n"
     ]
    }
   ],
   "source": [
    "age_str = input(\"enter your age: \")       # intput will be string"
   ]
  },
  {
   "cell_type": "code",
   "execution_count": 2,
   "id": "8c91e1e6",
   "metadata": {},
   "outputs": [
    {
     "name": "stdout",
     "output_type": "stream",
     "text": [
      "22\n"
     ]
    },
    {
     "data": {
      "text/plain": [
       "str"
      ]
     },
     "execution_count": 2,
     "metadata": {},
     "output_type": "execute_result"
    }
   ],
   "source": [
    "print(age_str)\n",
    "\n",
    "type(age_str)"
   ]
  },
  {
   "cell_type": "code",
   "execution_count": 7,
   "id": "fd1d5168",
   "metadata": {},
   "outputs": [
    {
     "name": "stdout",
     "output_type": "stream",
     "text": [
      "enter your 12th passing year: 2000\n"
     ]
    }
   ],
   "source": [
    "age_integer= int(input(\"enter your 12th passing year: \"))      # intput will be integer"
   ]
  },
  {
   "cell_type": "code",
   "execution_count": 9,
   "id": "1cbe0e61",
   "metadata": {},
   "outputs": [
    {
     "name": "stdout",
     "output_type": "stream",
     "text": [
      "2000\n"
     ]
    },
    {
     "data": {
      "text/plain": [
       "int"
      ]
     },
     "execution_count": 9,
     "metadata": {},
     "output_type": "execute_result"
    }
   ],
   "source": [
    "print(age_integer)\n",
    "\n",
    "type(age_integer)"
   ]
  },
  {
   "cell_type": "code",
   "execution_count": 10,
   "id": "be1003c2",
   "metadata": {},
   "outputs": [
    {
     "name": "stdout",
     "output_type": "stream",
     "text": [
      "Enter your float/decimal value: 77.7\n"
     ]
    }
   ],
   "source": [
    "float1 = float(input(\"Enter your float/decimal value: \"))"
   ]
  },
  {
   "cell_type": "code",
   "execution_count": 11,
   "id": "7dce7e71",
   "metadata": {},
   "outputs": [
    {
     "data": {
      "text/plain": [
       "float"
      ]
     },
     "execution_count": 11,
     "metadata": {},
     "output_type": "execute_result"
    }
   ],
   "source": [
    "type(float1)"
   ]
  },
  {
   "cell_type": "code",
   "execution_count": 16,
   "id": "b5bd393f",
   "metadata": {},
   "outputs": [
    {
     "name": "stdout",
     "output_type": "stream",
     "text": [
      "enter your value: \n"
     ]
    }
   ],
   "source": [
    "# bool - true or flase, it means it check weather your variable have any input or not\n",
    "\n",
    "q= bool(input(\"enter your value: \"))"
   ]
  },
  {
   "cell_type": "code",
   "execution_count": 17,
   "id": "bda293a8",
   "metadata": {},
   "outputs": [
    {
     "data": {
      "text/plain": [
       "False"
      ]
     },
     "execution_count": 17,
     "metadata": {},
     "output_type": "execute_result"
    }
   ],
   "source": [
    "q"
   ]
  },
  {
   "cell_type": "code",
   "execution_count": 18,
   "id": "3806e01f",
   "metadata": {},
   "outputs": [
    {
     "name": "stdout",
     "output_type": "stream",
     "text": [
      "enter your value: vikas\n"
     ]
    }
   ],
   "source": [
    "q2 = bool(input(\"enter your value: \"))"
   ]
  },
  {
   "cell_type": "code",
   "execution_count": 19,
   "id": "e1d40ee4",
   "metadata": {},
   "outputs": [
    {
     "data": {
      "text/plain": [
       "True"
      ]
     },
     "execution_count": 19,
     "metadata": {},
     "output_type": "execute_result"
    }
   ],
   "source": [
    "q2"
   ]
  },
  {
   "cell_type": "code",
   "execution_count": 9,
   "id": "cb31605b",
   "metadata": {},
   "outputs": [
    {
     "name": "stdout",
     "output_type": "stream",
     "text": [
      "Enter the password: vikas\n",
      "Enter the password again: vikas\n"
     ]
    }
   ],
   "source": [
    "password = (input(\"Enter the password: \")\n",
    "\n",
    "confirm_password = input(\"Enter the password again: \")"
   ]
  },
  {
   "cell_type": "code",
   "execution_count": 10,
   "id": "8a90adaa",
   "metadata": {},
   "outputs": [
    {
     "data": {
      "text/plain": [
       "True"
      ]
     },
     "execution_count": 10,
     "metadata": {},
     "output_type": "execute_result"
    }
   ],
   "source": [
    "password == confirm_password    # here i got the boolean value i.e true"
   ]
  },
  {
   "cell_type": "code",
   "execution_count": 11,
   "id": "fe34a162",
   "metadata": {},
   "outputs": [
    {
     "data": {
      "text/plain": [
       "str"
      ]
     },
     "execution_count": 11,
     "metadata": {},
     "output_type": "execute_result"
    }
   ],
   "source": [
    "type(password)"
   ]
  },
  {
   "cell_type": "code",
   "execution_count": 5,
   "id": "b41eb876",
   "metadata": {},
   "outputs": [],
   "source": [
    "para = '''\n",
    "My name is Vikas Chaudhary.\n",
    "I'm your teacher. \n",
    "Who is ging to clear your all basics of Python for data science.\n",
    "'''"
   ]
  },
  {
   "cell_type": "code",
   "execution_count": 6,
   "id": "ced59b23",
   "metadata": {},
   "outputs": [
    {
     "name": "stdout",
     "output_type": "stream",
     "text": [
      "\n",
      "My name is Vikas Chaudhary.\n",
      "I'm your teacher. \n",
      "Who is ging to clear your all basics of Python for data science.\n",
      "\n"
     ]
    }
   ],
   "source": [
    "print(para)"
   ]
  },
  {
   "cell_type": "code",
   "execution_count": null,
   "id": "afb8e8cd",
   "metadata": {},
   "outputs": [],
   "source": []
  }
 ],
 "metadata": {
  "kernelspec": {
   "display_name": "Python 3 (ipykernel)",
   "language": "python",
   "name": "python3"
  },
  "language_info": {
   "codemirror_mode": {
    "name": "ipython",
    "version": 3
   },
   "file_extension": ".py",
   "mimetype": "text/x-python",
   "name": "python",
   "nbconvert_exporter": "python",
   "pygments_lexer": "ipython3",
   "version": "3.9.7"
  }
 },
 "nbformat": 4,
 "nbformat_minor": 5
}
